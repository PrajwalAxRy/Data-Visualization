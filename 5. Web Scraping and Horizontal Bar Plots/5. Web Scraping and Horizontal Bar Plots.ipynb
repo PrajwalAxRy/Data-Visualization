{
 "cells": [
  {
   "cell_type": "code",
   "execution_count": 1,
   "id": "2feb343f",
   "metadata": {},
   "outputs": [],
   "source": [
    "import pandas as pd\n",
    "from owid import catalog\n",
    "import plotly.express as px\n",
    "import seaborn as sns\n",
    "import awoc"
   ]
  },
  {
   "cell_type": "code",
   "execution_count": 2,
   "id": "4fd62073",
   "metadata": {},
   "outputs": [],
   "source": [
    "site_url = \"https://ourworldindata.org/the-worlds-deadliest-earthquakes\""
   ]
  },
  {
   "cell_type": "code",
   "execution_count": 7,
   "id": "26dc20a5",
   "metadata": {},
   "outputs": [
    {
     "data": {
      "text/html": [
       "<div>\n",
       "<style scoped>\n",
       "    .dataframe tbody tr th:only-of-type {\n",
       "        vertical-align: middle;\n",
       "    }\n",
       "\n",
       "    .dataframe tbody tr th {\n",
       "        vertical-align: top;\n",
       "    }\n",
       "\n",
       "    .dataframe thead th {\n",
       "        text-align: right;\n",
       "    }\n",
       "</style>\n",
       "<table border=\"1\" class=\"dataframe\">\n",
       "  <thead>\n",
       "    <tr style=\"text-align: right;\">\n",
       "      <th></th>\n",
       "      <th>Ranking</th>\n",
       "      <th>Location</th>\n",
       "      <th>Year</th>\n",
       "      <th>Estimated death toll</th>\n",
       "      <th>Earthquake magnitude</th>\n",
       "      <th>Additional information</th>\n",
       "    </tr>\n",
       "  </thead>\n",
       "  <tbody>\n",
       "    <tr>\n",
       "      <th>0</th>\n",
       "      <td>1</td>\n",
       "      <td>Shaanxi, China</td>\n",
       "      <td>1556</td>\n",
       "      <td>830000</td>\n",
       "      <td>8</td>\n",
       "      <td>More than 97 counties in China were affected. ...</td>\n",
       "    </tr>\n",
       "    <tr>\n",
       "      <th>1</th>\n",
       "      <td>2</td>\n",
       "      <td>Port-au-Prince, Haiti</td>\n",
       "      <td>2010</td>\n",
       "      <td>316000</td>\n",
       "      <td>7</td>\n",
       "      <td>Death toll is still disputed. Here we present ...</td>\n",
       "    </tr>\n",
       "    <tr>\n",
       "      <th>2</th>\n",
       "      <td>3</td>\n",
       "      <td>Antakya, Turkey</td>\n",
       "      <td>115</td>\n",
       "      <td>260000</td>\n",
       "      <td>7.5</td>\n",
       "      <td>Antioch (ancient ruins which lie near the mode...</td>\n",
       "    </tr>\n",
       "    <tr>\n",
       "      <th>3</th>\n",
       "      <td>4</td>\n",
       "      <td>Antakya, Turkey</td>\n",
       "      <td>525</td>\n",
       "      <td>250000</td>\n",
       "      <td>7</td>\n",
       "      <td>Severe damage to the area of the Byzantine Emp...</td>\n",
       "    </tr>\n",
       "    <tr>\n",
       "      <th>4</th>\n",
       "      <td>5</td>\n",
       "      <td>Tangshan, China</td>\n",
       "      <td>1976</td>\n",
       "      <td>242769</td>\n",
       "      <td>7.5</td>\n",
       "      <td>Reported that the earthquake risk had been gre...</td>\n",
       "    </tr>\n",
       "    <tr>\n",
       "      <th>5</th>\n",
       "      <td>6</td>\n",
       "      <td>Gyzndzha, Azerbaijan</td>\n",
       "      <td>1139</td>\n",
       "      <td>230000</td>\n",
       "      <td>Unknown</td>\n",
       "      <td>Often termed the Ganja earthquake. Much less i...</td>\n",
       "    </tr>\n",
       "    <tr>\n",
       "      <th>6</th>\n",
       "      <td>7</td>\n",
       "      <td>Sumatra, Indonesia</td>\n",
       "      <td>2004</td>\n",
       "      <td>227899</td>\n",
       "      <td>9.1</td>\n",
       "      <td>Earthquake in Indian Ocean off the coast of Su...</td>\n",
       "    </tr>\n",
       "    <tr>\n",
       "      <th>7</th>\n",
       "      <td>8</td>\n",
       "      <td>Damghan, Iran</td>\n",
       "      <td>856</td>\n",
       "      <td>200000</td>\n",
       "      <td>7.9</td>\n",
       "      <td>Estimated that extent of the damage area was 2...</td>\n",
       "    </tr>\n",
       "    <tr>\n",
       "      <th>8</th>\n",
       "      <td>8</td>\n",
       "      <td>Gansu, China</td>\n",
       "      <td>1920</td>\n",
       "      <td>200000</td>\n",
       "      <td>8.3</td>\n",
       "      <td>Damage occurred across 7 provinces and regions...</td>\n",
       "    </tr>\n",
       "    <tr>\n",
       "      <th>9</th>\n",
       "      <td>9</td>\n",
       "      <td>Dvin, Armenia</td>\n",
       "      <td>893</td>\n",
       "      <td>150000</td>\n",
       "      <td>Unknown</td>\n",
       "      <td>City of Dvin was destroyed, with the collapse ...</td>\n",
       "    </tr>\n",
       "    <tr>\n",
       "      <th>10</th>\n",
       "      <td>10</td>\n",
       "      <td>Tokyo, Japan</td>\n",
       "      <td>1923</td>\n",
       "      <td>142807</td>\n",
       "      <td>7.9</td>\n",
       "      <td>More than half of brick buildings, and 10% of ...</td>\n",
       "    </tr>\n",
       "  </tbody>\n",
       "</table>\n",
       "</div>"
      ],
      "text/plain": [
       "    Ranking               Location  Year  Estimated death toll  \\\n",
       "0         1         Shaanxi, China  1556                830000   \n",
       "1         2  Port-au-Prince, Haiti  2010                316000   \n",
       "2         3        Antakya, Turkey   115                260000   \n",
       "3         4        Antakya, Turkey   525                250000   \n",
       "4         5        Tangshan, China  1976                242769   \n",
       "5         6   Gyzndzha, Azerbaijan  1139                230000   \n",
       "6         7     Sumatra, Indonesia  2004                227899   \n",
       "7         8          Damghan, Iran   856                200000   \n",
       "8         8           Gansu, China  1920                200000   \n",
       "9         9          Dvin, Armenia   893                150000   \n",
       "10       10           Tokyo, Japan  1923                142807   \n",
       "\n",
       "   Earthquake magnitude                             Additional information  \n",
       "0                     8  More than 97 counties in China were affected. ...  \n",
       "1                     7  Death toll is still disputed. Here we present ...  \n",
       "2                   7.5  Antioch (ancient ruins which lie near the mode...  \n",
       "3                     7  Severe damage to the area of the Byzantine Emp...  \n",
       "4                   7.5  Reported that the earthquake risk had been gre...  \n",
       "5               Unknown  Often termed the Ganja earthquake. Much less i...  \n",
       "6                   9.1  Earthquake in Indian Ocean off the coast of Su...  \n",
       "7                   7.9  Estimated that extent of the damage area was 2...  \n",
       "8                   8.3  Damage occurred across 7 provinces and regions...  \n",
       "9               Unknown  City of Dvin was destroyed, with the collapse ...  \n",
       "10                  7.9  More than half of brick buildings, and 10% of ...  "
      ]
     },
     "execution_count": 7,
     "metadata": {},
     "output_type": "execute_result"
    }
   ],
   "source": [
    "df = pd.read_html(site_url)\n",
    "df2 = df[0]\n",
    "df2"
   ]
  },
  {
   "cell_type": "code",
   "execution_count": 8,
   "id": "bfc780f4",
   "metadata": {},
   "outputs": [],
   "source": [
    "df2[\"Location\"] = df2[\"Location\"].str.split(',').str[1]"
   ]
  },
  {
   "cell_type": "code",
   "execution_count": 13,
   "id": "b6a5947c",
   "metadata": {},
   "outputs": [
    {
     "data": {
      "text/html": [
       "\n",
       "             <h2 style=\"margin-bottom: 0em\"><pre>natural_disasters_yearly</pre></h2>\n",
       "             <p style=\"font-variant: small-caps; font-size: 1.5em; font-family: sans-serif; color: grey; margin-top: -0.2em; margin-bottom: 0.2em\">table</p>\n",
       "             <div>\n",
       "<style scoped>\n",
       "    .dataframe tbody tr th:only-of-type {\n",
       "        vertical-align: middle;\n",
       "    }\n",
       "\n",
       "    .dataframe tbody tr th {\n",
       "        vertical-align: top;\n",
       "    }\n",
       "\n",
       "    .dataframe thead th {\n",
       "        text-align: right;\n",
       "    }\n",
       "</style>\n",
       "<table border=\"1\" class=\"dataframe\">\n",
       "  <thead>\n",
       "    <tr style=\"text-align: right;\">\n",
       "      <th></th>\n",
       "      <th>country</th>\n",
       "      <th>year</th>\n",
       "      <th>type</th>\n",
       "      <th>total_dead</th>\n",
       "      <th>injured</th>\n",
       "      <th>affected</th>\n",
       "      <th>homeless</th>\n",
       "      <th>total_affected</th>\n",
       "      <th>reconstruction_costs</th>\n",
       "      <th>insured_damages</th>\n",
       "      <th>...</th>\n",
       "      <th>gdp</th>\n",
       "      <th>reconstruction_costs_per_gdp</th>\n",
       "      <th>insured_damages_per_gdp</th>\n",
       "      <th>total_damages_per_gdp</th>\n",
       "      <th>total_dead_per_100k_people</th>\n",
       "      <th>injured_per_100k_people</th>\n",
       "      <th>affected_per_100k_people</th>\n",
       "      <th>homeless_per_100k_people</th>\n",
       "      <th>total_affected_per_100k_people</th>\n",
       "      <th>n_events_per_100k_people</th>\n",
       "    </tr>\n",
       "  </thead>\n",
       "  <tbody>\n",
       "    <tr>\n",
       "      <th>0</th>\n",
       "      <td>Afghanistan</td>\n",
       "      <td>1954</td>\n",
       "      <td>all_disasters</td>\n",
       "      <td>2000</td>\n",
       "      <td>0</td>\n",
       "      <td>0</td>\n",
       "      <td>0</td>\n",
       "      <td>0</td>\n",
       "      <td>0</td>\n",
       "      <td>0</td>\n",
       "      <td>...</td>\n",
       "      <td>NaN</td>\n",
       "      <td>NaN</td>\n",
       "      <td>NaN</td>\n",
       "      <td>NaN</td>\n",
       "      <td>25.431416</td>\n",
       "      <td>0.000000</td>\n",
       "      <td>0.000000</td>\n",
       "      <td>0.0</td>\n",
       "      <td>0.000000</td>\n",
       "      <td>0.012716</td>\n",
       "    </tr>\n",
       "    <tr>\n",
       "      <th>1</th>\n",
       "      <td>Afghanistan</td>\n",
       "      <td>1954</td>\n",
       "      <td>earthquake</td>\n",
       "      <td>2000</td>\n",
       "      <td>0</td>\n",
       "      <td>0</td>\n",
       "      <td>0</td>\n",
       "      <td>0</td>\n",
       "      <td>0</td>\n",
       "      <td>0</td>\n",
       "      <td>...</td>\n",
       "      <td>NaN</td>\n",
       "      <td>NaN</td>\n",
       "      <td>NaN</td>\n",
       "      <td>NaN</td>\n",
       "      <td>25.431416</td>\n",
       "      <td>0.000000</td>\n",
       "      <td>0.000000</td>\n",
       "      <td>0.0</td>\n",
       "      <td>0.000000</td>\n",
       "      <td>0.012716</td>\n",
       "    </tr>\n",
       "    <tr>\n",
       "      <th>2</th>\n",
       "      <td>Afghanistan</td>\n",
       "      <td>1956</td>\n",
       "      <td>all_disasters</td>\n",
       "      <td>151</td>\n",
       "      <td>2000</td>\n",
       "      <td>0</td>\n",
       "      <td>0</td>\n",
       "      <td>2000</td>\n",
       "      <td>0</td>\n",
       "      <td>0</td>\n",
       "      <td>...</td>\n",
       "      <td>NaN</td>\n",
       "      <td>NaN</td>\n",
       "      <td>NaN</td>\n",
       "      <td>NaN</td>\n",
       "      <td>1.867026</td>\n",
       "      <td>24.728817</td>\n",
       "      <td>0.000000</td>\n",
       "      <td>0.0</td>\n",
       "      <td>24.728817</td>\n",
       "      <td>0.024729</td>\n",
       "    </tr>\n",
       "    <tr>\n",
       "      <th>3</th>\n",
       "      <td>Afghanistan</td>\n",
       "      <td>1956</td>\n",
       "      <td>earthquake</td>\n",
       "      <td>100</td>\n",
       "      <td>2000</td>\n",
       "      <td>0</td>\n",
       "      <td>0</td>\n",
       "      <td>2000</td>\n",
       "      <td>0</td>\n",
       "      <td>0</td>\n",
       "      <td>...</td>\n",
       "      <td>NaN</td>\n",
       "      <td>NaN</td>\n",
       "      <td>NaN</td>\n",
       "      <td>NaN</td>\n",
       "      <td>1.236441</td>\n",
       "      <td>24.728817</td>\n",
       "      <td>0.000000</td>\n",
       "      <td>0.0</td>\n",
       "      <td>24.728817</td>\n",
       "      <td>0.012364</td>\n",
       "    </tr>\n",
       "    <tr>\n",
       "      <th>4</th>\n",
       "      <td>Afghanistan</td>\n",
       "      <td>1956</td>\n",
       "      <td>flood</td>\n",
       "      <td>51</td>\n",
       "      <td>0</td>\n",
       "      <td>0</td>\n",
       "      <td>0</td>\n",
       "      <td>0</td>\n",
       "      <td>0</td>\n",
       "      <td>0</td>\n",
       "      <td>...</td>\n",
       "      <td>NaN</td>\n",
       "      <td>NaN</td>\n",
       "      <td>NaN</td>\n",
       "      <td>NaN</td>\n",
       "      <td>0.630585</td>\n",
       "      <td>0.000000</td>\n",
       "      <td>0.000000</td>\n",
       "      <td>0.0</td>\n",
       "      <td>0.000000</td>\n",
       "      <td>0.012364</td>\n",
       "    </tr>\n",
       "    <tr>\n",
       "      <th>...</th>\n",
       "      <td>...</td>\n",
       "      <td>...</td>\n",
       "      <td>...</td>\n",
       "      <td>...</td>\n",
       "      <td>...</td>\n",
       "      <td>...</td>\n",
       "      <td>...</td>\n",
       "      <td>...</td>\n",
       "      <td>...</td>\n",
       "      <td>...</td>\n",
       "      <td>...</td>\n",
       "      <td>...</td>\n",
       "      <td>...</td>\n",
       "      <td>...</td>\n",
       "      <td>...</td>\n",
       "      <td>...</td>\n",
       "      <td>...</td>\n",
       "      <td>...</td>\n",
       "      <td>...</td>\n",
       "      <td>...</td>\n",
       "      <td>...</td>\n",
       "    </tr>\n",
       "    <tr>\n",
       "      <th>21700</th>\n",
       "      <td>Zimbabwe</td>\n",
       "      <td>2022</td>\n",
       "      <td>all_disasters</td>\n",
       "      <td>0</td>\n",
       "      <td>0</td>\n",
       "      <td>3000</td>\n",
       "      <td>0</td>\n",
       "      <td>3000</td>\n",
       "      <td>0</td>\n",
       "      <td>0</td>\n",
       "      <td>...</td>\n",
       "      <td>NaN</td>\n",
       "      <td>NaN</td>\n",
       "      <td>NaN</td>\n",
       "      <td>NaN</td>\n",
       "      <td>0.000000</td>\n",
       "      <td>0.000000</td>\n",
       "      <td>18.381746</td>\n",
       "      <td>0.0</td>\n",
       "      <td>18.381746</td>\n",
       "      <td>0.012254</td>\n",
       "    </tr>\n",
       "    <tr>\n",
       "      <th>21701</th>\n",
       "      <td>Zimbabwe</td>\n",
       "      <td>2022</td>\n",
       "      <td>extreme_weather</td>\n",
       "      <td>0</td>\n",
       "      <td>0</td>\n",
       "      <td>3000</td>\n",
       "      <td>0</td>\n",
       "      <td>3000</td>\n",
       "      <td>0</td>\n",
       "      <td>0</td>\n",
       "      <td>...</td>\n",
       "      <td>NaN</td>\n",
       "      <td>NaN</td>\n",
       "      <td>NaN</td>\n",
       "      <td>NaN</td>\n",
       "      <td>0.000000</td>\n",
       "      <td>0.000000</td>\n",
       "      <td>18.381746</td>\n",
       "      <td>0.0</td>\n",
       "      <td>18.381746</td>\n",
       "      <td>0.006127</td>\n",
       "    </tr>\n",
       "    <tr>\n",
       "      <th>21702</th>\n",
       "      <td>Zimbabwe</td>\n",
       "      <td>2022</td>\n",
       "      <td>flood</td>\n",
       "      <td>0</td>\n",
       "      <td>0</td>\n",
       "      <td>0</td>\n",
       "      <td>0</td>\n",
       "      <td>0</td>\n",
       "      <td>0</td>\n",
       "      <td>0</td>\n",
       "      <td>...</td>\n",
       "      <td>NaN</td>\n",
       "      <td>NaN</td>\n",
       "      <td>NaN</td>\n",
       "      <td>NaN</td>\n",
       "      <td>0.000000</td>\n",
       "      <td>0.000000</td>\n",
       "      <td>0.000000</td>\n",
       "      <td>0.0</td>\n",
       "      <td>0.000000</td>\n",
       "      <td>0.006127</td>\n",
       "    </tr>\n",
       "    <tr>\n",
       "      <th>21703</th>\n",
       "      <td>Zimbabwe</td>\n",
       "      <td>2023</td>\n",
       "      <td>all_disasters</td>\n",
       "      <td>2</td>\n",
       "      <td>0</td>\n",
       "      <td>0</td>\n",
       "      <td>0</td>\n",
       "      <td>0</td>\n",
       "      <td>0</td>\n",
       "      <td>0</td>\n",
       "      <td>...</td>\n",
       "      <td>NaN</td>\n",
       "      <td>NaN</td>\n",
       "      <td>NaN</td>\n",
       "      <td>NaN</td>\n",
       "      <td>0.012001</td>\n",
       "      <td>0.000000</td>\n",
       "      <td>0.000000</td>\n",
       "      <td>0.0</td>\n",
       "      <td>0.000000</td>\n",
       "      <td>0.006000</td>\n",
       "    </tr>\n",
       "    <tr>\n",
       "      <th>21704</th>\n",
       "      <td>Zimbabwe</td>\n",
       "      <td>2023</td>\n",
       "      <td>extreme_weather</td>\n",
       "      <td>2</td>\n",
       "      <td>0</td>\n",
       "      <td>0</td>\n",
       "      <td>0</td>\n",
       "      <td>0</td>\n",
       "      <td>0</td>\n",
       "      <td>0</td>\n",
       "      <td>...</td>\n",
       "      <td>NaN</td>\n",
       "      <td>NaN</td>\n",
       "      <td>NaN</td>\n",
       "      <td>NaN</td>\n",
       "      <td>0.012001</td>\n",
       "      <td>0.000000</td>\n",
       "      <td>0.000000</td>\n",
       "      <td>0.0</td>\n",
       "      <td>0.000000</td>\n",
       "      <td>0.006000</td>\n",
       "    </tr>\n",
       "  </tbody>\n",
       "</table>\n",
       "<p>21705 rows × 23 columns</p>\n",
       "</div>\n",
       "        "
      ],
      "text/plain": [
       "           country  year             type  total_dead  injured  affected  \\\n",
       "0      Afghanistan  1954    all_disasters        2000        0         0   \n",
       "1      Afghanistan  1954       earthquake        2000        0         0   \n",
       "2      Afghanistan  1956    all_disasters         151     2000         0   \n",
       "3      Afghanistan  1956       earthquake         100     2000         0   \n",
       "4      Afghanistan  1956            flood          51        0         0   \n",
       "...            ...   ...              ...         ...      ...       ...   \n",
       "21700     Zimbabwe  2022    all_disasters           0        0      3000   \n",
       "21701     Zimbabwe  2022  extreme_weather           0        0      3000   \n",
       "21702     Zimbabwe  2022            flood           0        0         0   \n",
       "21703     Zimbabwe  2023    all_disasters           2        0         0   \n",
       "21704     Zimbabwe  2023  extreme_weather           2        0         0   \n",
       "\n",
       "       homeless  total_affected  reconstruction_costs  insured_damages  ...  \\\n",
       "0             0               0                     0                0  ...   \n",
       "1             0               0                     0                0  ...   \n",
       "2             0            2000                     0                0  ...   \n",
       "3             0            2000                     0                0  ...   \n",
       "4             0               0                     0                0  ...   \n",
       "...         ...             ...                   ...              ...  ...   \n",
       "21700         0            3000                     0                0  ...   \n",
       "21701         0            3000                     0                0  ...   \n",
       "21702         0               0                     0                0  ...   \n",
       "21703         0               0                     0                0  ...   \n",
       "21704         0               0                     0                0  ...   \n",
       "\n",
       "       gdp  reconstruction_costs_per_gdp  insured_damages_per_gdp  \\\n",
       "0      NaN                           NaN                      NaN   \n",
       "1      NaN                           NaN                      NaN   \n",
       "2      NaN                           NaN                      NaN   \n",
       "3      NaN                           NaN                      NaN   \n",
       "4      NaN                           NaN                      NaN   \n",
       "...    ...                           ...                      ...   \n",
       "21700  NaN                           NaN                      NaN   \n",
       "21701  NaN                           NaN                      NaN   \n",
       "21702  NaN                           NaN                      NaN   \n",
       "21703  NaN                           NaN                      NaN   \n",
       "21704  NaN                           NaN                      NaN   \n",
       "\n",
       "       total_damages_per_gdp  total_dead_per_100k_people  \\\n",
       "0                        NaN                   25.431416   \n",
       "1                        NaN                   25.431416   \n",
       "2                        NaN                    1.867026   \n",
       "3                        NaN                    1.236441   \n",
       "4                        NaN                    0.630585   \n",
       "...                      ...                         ...   \n",
       "21700                    NaN                    0.000000   \n",
       "21701                    NaN                    0.000000   \n",
       "21702                    NaN                    0.000000   \n",
       "21703                    NaN                    0.012001   \n",
       "21704                    NaN                    0.012001   \n",
       "\n",
       "       injured_per_100k_people  affected_per_100k_people  \\\n",
       "0                     0.000000                  0.000000   \n",
       "1                     0.000000                  0.000000   \n",
       "2                    24.728817                  0.000000   \n",
       "3                    24.728817                  0.000000   \n",
       "4                     0.000000                  0.000000   \n",
       "...                        ...                       ...   \n",
       "21700                 0.000000                 18.381746   \n",
       "21701                 0.000000                 18.381746   \n",
       "21702                 0.000000                  0.000000   \n",
       "21703                 0.000000                  0.000000   \n",
       "21704                 0.000000                  0.000000   \n",
       "\n",
       "       homeless_per_100k_people  total_affected_per_100k_people  \\\n",
       "0                           0.0                        0.000000   \n",
       "1                           0.0                        0.000000   \n",
       "2                           0.0                       24.728817   \n",
       "3                           0.0                       24.728817   \n",
       "4                           0.0                        0.000000   \n",
       "...                         ...                             ...   \n",
       "21700                       0.0                       18.381746   \n",
       "21701                       0.0                       18.381746   \n",
       "21702                       0.0                        0.000000   \n",
       "21703                       0.0                        0.000000   \n",
       "21704                       0.0                        0.000000   \n",
       "\n",
       "       n_events_per_100k_people  \n",
       "0                      0.012716  \n",
       "1                      0.012716  \n",
       "2                      0.024729  \n",
       "3                      0.012364  \n",
       "4                      0.012364  \n",
       "...                         ...  \n",
       "21700                  0.012254  \n",
       "21701                  0.006127  \n",
       "21702                  0.006127  \n",
       "21703                  0.006000  \n",
       "21704                  0.006000  \n",
       "\n",
       "[21705 rows x 23 columns]"
      ]
     },
     "execution_count": 13,
     "metadata": {},
     "output_type": "execute_result"
    }
   ],
   "source": [
    "df_dist = catalog.find(\"natural_disasters\").iloc[3].load()\n",
    "df_dist = df_dist.reset_index()\n",
    "df_dist"
   ]
  },
  {
   "cell_type": "code",
   "execution_count": 14,
   "id": "1fe74832",
   "metadata": {},
   "outputs": [],
   "source": [
    "df_dist = df_dist[(df_dist['year'] >= 2000) & (df_dist['type'] == \"earthquake\")]"
   ]
  },
  {
   "cell_type": "code",
   "execution_count": 16,
   "id": "919e22e4",
   "metadata": {},
   "outputs": [],
   "source": [
    "world_data = awoc.AWOC()\n",
    "unwanted = [\"World\", \"European Union (27)\"] + world_data.get_continents_list() + ['Upper-middle-income countries', 'Lower-middle-income countries', 'High-income countries', 'Low-income countries'\n",
    "]\n",
    "\n",
    "df_dist = df_dist[~df_dist[\"country\"].isin(unwanted)]"
   ]
  },
  {
   "cell_type": "code",
   "execution_count": 18,
   "id": "83935532",
   "metadata": {},
   "outputs": [
    {
     "data": {
      "text/html": [
       "\n",
       "             <h2 style=\"margin-bottom: 0em\"><pre>natural_disasters_yearly</pre></h2>\n",
       "             <p style=\"font-variant: small-caps; font-size: 1.5em; font-family: sans-serif; color: grey; margin-top: -0.2em; margin-bottom: 0.2em\">table</p>\n",
       "             <div>\n",
       "<style scoped>\n",
       "    .dataframe tbody tr th:only-of-type {\n",
       "        vertical-align: middle;\n",
       "    }\n",
       "\n",
       "    .dataframe tbody tr th {\n",
       "        vertical-align: top;\n",
       "    }\n",
       "\n",
       "    .dataframe thead th {\n",
       "        text-align: right;\n",
       "    }\n",
       "</style>\n",
       "<table border=\"1\" class=\"dataframe\">\n",
       "  <thead>\n",
       "    <tr style=\"text-align: right;\">\n",
       "      <th></th>\n",
       "      <th>country</th>\n",
       "      <th>year</th>\n",
       "      <th>type</th>\n",
       "      <th>total_dead</th>\n",
       "      <th>injured</th>\n",
       "      <th>affected</th>\n",
       "      <th>homeless</th>\n",
       "      <th>total_affected</th>\n",
       "      <th>reconstruction_costs</th>\n",
       "      <th>insured_damages</th>\n",
       "      <th>...</th>\n",
       "      <th>gdp</th>\n",
       "      <th>reconstruction_costs_per_gdp</th>\n",
       "      <th>insured_damages_per_gdp</th>\n",
       "      <th>total_damages_per_gdp</th>\n",
       "      <th>total_dead_per_100k_people</th>\n",
       "      <th>injured_per_100k_people</th>\n",
       "      <th>affected_per_100k_people</th>\n",
       "      <th>homeless_per_100k_people</th>\n",
       "      <th>total_affected_per_100k_people</th>\n",
       "      <th>n_events_per_100k_people</th>\n",
       "    </tr>\n",
       "  </thead>\n",
       "  <tbody>\n",
       "    <tr>\n",
       "      <th>67</th>\n",
       "      <td>Afghanistan</td>\n",
       "      <td>2001</td>\n",
       "      <td>earthquake</td>\n",
       "      <td>4</td>\n",
       "      <td>20</td>\n",
       "      <td>0</td>\n",
       "      <td>250</td>\n",
       "      <td>270</td>\n",
       "      <td>0</td>\n",
       "      <td>0</td>\n",
       "      <td>...</td>\n",
       "      <td>NaN</td>\n",
       "      <td>NaN</td>\n",
       "      <td>NaN</td>\n",
       "      <td>NaN</td>\n",
       "      <td>0.020316</td>\n",
       "      <td>0.101581</td>\n",
       "      <td>0.000000</td>\n",
       "      <td>1.269768</td>\n",
       "      <td>1.371350</td>\n",
       "      <td>0.010158</td>\n",
       "    </tr>\n",
       "    <tr>\n",
       "      <th>70</th>\n",
       "      <td>Afghanistan</td>\n",
       "      <td>2002</td>\n",
       "      <td>earthquake</td>\n",
       "      <td>1200</td>\n",
       "      <td>1391</td>\n",
       "      <td>89500</td>\n",
       "      <td>10000</td>\n",
       "      <td>100891</td>\n",
       "      <td>0</td>\n",
       "      <td>0</td>\n",
       "      <td>...</td>\n",
       "      <td>3.854235e+09</td>\n",
       "      <td>0.0</td>\n",
       "      <td>0.0</td>\n",
       "      <td>0.000000</td>\n",
       "      <td>5.714215</td>\n",
       "      <td>6.623728</td>\n",
       "      <td>426.185242</td>\n",
       "      <td>47.618462</td>\n",
       "      <td>480.427429</td>\n",
       "      <td>0.014286</td>\n",
       "    </tr>\n",
       "    <tr>\n",
       "      <th>74</th>\n",
       "      <td>Afghanistan</td>\n",
       "      <td>2003</td>\n",
       "      <td>earthquake</td>\n",
       "      <td>1</td>\n",
       "      <td>1</td>\n",
       "      <td>0</td>\n",
       "      <td>1000</td>\n",
       "      <td>1001</td>\n",
       "      <td>0</td>\n",
       "      <td>0</td>\n",
       "      <td>...</td>\n",
       "      <td>4.539501e+09</td>\n",
       "      <td>0.0</td>\n",
       "      <td>0.0</td>\n",
       "      <td>0.000000</td>\n",
       "      <td>0.004416</td>\n",
       "      <td>0.004416</td>\n",
       "      <td>0.000000</td>\n",
       "      <td>4.415959</td>\n",
       "      <td>4.420375</td>\n",
       "      <td>0.004416</td>\n",
       "    </tr>\n",
       "    <tr>\n",
       "      <th>77</th>\n",
       "      <td>Afghanistan</td>\n",
       "      <td>2004</td>\n",
       "      <td>earthquake</td>\n",
       "      <td>2</td>\n",
       "      <td>40</td>\n",
       "      <td>0</td>\n",
       "      <td>1000</td>\n",
       "      <td>1040</td>\n",
       "      <td>0</td>\n",
       "      <td>0</td>\n",
       "      <td>...</td>\n",
       "      <td>5.220824e+09</td>\n",
       "      <td>0.0</td>\n",
       "      <td>0.0</td>\n",
       "      <td>0.000000</td>\n",
       "      <td>0.008491</td>\n",
       "      <td>0.169826</td>\n",
       "      <td>0.000000</td>\n",
       "      <td>4.245644</td>\n",
       "      <td>4.415470</td>\n",
       "      <td>0.004246</td>\n",
       "    </tr>\n",
       "    <tr>\n",
       "      <th>80</th>\n",
       "      <td>Afghanistan</td>\n",
       "      <td>2005</td>\n",
       "      <td>earthquake</td>\n",
       "      <td>6</td>\n",
       "      <td>1</td>\n",
       "      <td>500</td>\n",
       "      <td>0</td>\n",
       "      <td>501</td>\n",
       "      <td>0</td>\n",
       "      <td>0</td>\n",
       "      <td>...</td>\n",
       "      <td>6.226199e+09</td>\n",
       "      <td>0.0</td>\n",
       "      <td>0.0</td>\n",
       "      <td>0.000803</td>\n",
       "      <td>0.024579</td>\n",
       "      <td>0.004096</td>\n",
       "      <td>2.048240</td>\n",
       "      <td>0.000000</td>\n",
       "      <td>2.052337</td>\n",
       "      <td>0.008193</td>\n",
       "    </tr>\n",
       "  </tbody>\n",
       "</table>\n",
       "<p>5 rows × 23 columns</p>\n",
       "</div>\n",
       "        "
      ],
      "text/plain": [
       "        country  year        type  total_dead  injured  affected  homeless  \\\n",
       "67  Afghanistan  2001  earthquake           4       20         0       250   \n",
       "70  Afghanistan  2002  earthquake        1200     1391     89500     10000   \n",
       "74  Afghanistan  2003  earthquake           1        1         0      1000   \n",
       "77  Afghanistan  2004  earthquake           2       40         0      1000   \n",
       "80  Afghanistan  2005  earthquake           6        1       500         0   \n",
       "\n",
       "    total_affected  reconstruction_costs  insured_damages  ...           gdp  \\\n",
       "67             270                     0                0  ...           NaN   \n",
       "70          100891                     0                0  ...  3.854235e+09   \n",
       "74            1001                     0                0  ...  4.539501e+09   \n",
       "77            1040                     0                0  ...  5.220824e+09   \n",
       "80             501                     0                0  ...  6.226199e+09   \n",
       "\n",
       "    reconstruction_costs_per_gdp  insured_damages_per_gdp  \\\n",
       "67                           NaN                      NaN   \n",
       "70                           0.0                      0.0   \n",
       "74                           0.0                      0.0   \n",
       "77                           0.0                      0.0   \n",
       "80                           0.0                      0.0   \n",
       "\n",
       "    total_damages_per_gdp  total_dead_per_100k_people  \\\n",
       "67                    NaN                    0.020316   \n",
       "70               0.000000                    5.714215   \n",
       "74               0.000000                    0.004416   \n",
       "77               0.000000                    0.008491   \n",
       "80               0.000803                    0.024579   \n",
       "\n",
       "    injured_per_100k_people  affected_per_100k_people  \\\n",
       "67                 0.101581                  0.000000   \n",
       "70                 6.623728                426.185242   \n",
       "74                 0.004416                  0.000000   \n",
       "77                 0.169826                  0.000000   \n",
       "80                 0.004096                  2.048240   \n",
       "\n",
       "    homeless_per_100k_people  total_affected_per_100k_people  \\\n",
       "67                  1.269768                        1.371350   \n",
       "70                 47.618462                      480.427429   \n",
       "74                  4.415959                        4.420375   \n",
       "77                  4.245644                        4.415470   \n",
       "80                  0.000000                        2.052337   \n",
       "\n",
       "    n_events_per_100k_people  \n",
       "67                  0.010158  \n",
       "70                  0.014286  \n",
       "74                  0.004416  \n",
       "77                  0.004246  \n",
       "80                  0.008193  \n",
       "\n",
       "[5 rows x 23 columns]"
      ]
     },
     "execution_count": 18,
     "metadata": {},
     "output_type": "execute_result"
    }
   ],
   "source": [
    "df_dist.head()"
   ]
  },
  {
   "cell_type": "code",
   "execution_count": 22,
   "id": "2c0987e7",
   "metadata": {},
   "outputs": [
    {
     "data": {
      "text/html": [
       "\n",
       "             <h2 style=\"margin-bottom: 0em\"><pre>natural_disasters_yearly</pre></h2>\n",
       "             <p style=\"font-variant: small-caps; font-size: 1.5em; font-family: sans-serif; color: grey; margin-top: -0.2em; margin-bottom: 0.2em\">table</p>\n",
       "             <div>\n",
       "<style scoped>\n",
       "    .dataframe tbody tr th:only-of-type {\n",
       "        vertical-align: middle;\n",
       "    }\n",
       "\n",
       "    .dataframe tbody tr th {\n",
       "        vertical-align: top;\n",
       "    }\n",
       "\n",
       "    .dataframe thead th {\n",
       "        text-align: right;\n",
       "    }\n",
       "</style>\n",
       "<table border=\"1\" class=\"dataframe\">\n",
       "  <thead>\n",
       "    <tr style=\"text-align: right;\">\n",
       "      <th></th>\n",
       "      <th>country</th>\n",
       "      <th>year</th>\n",
       "      <th>type</th>\n",
       "      <th>total_dead</th>\n",
       "      <th>injured</th>\n",
       "      <th>affected</th>\n",
       "      <th>homeless</th>\n",
       "      <th>total_affected</th>\n",
       "      <th>reconstruction_costs</th>\n",
       "      <th>insured_damages</th>\n",
       "      <th>...</th>\n",
       "      <th>gdp</th>\n",
       "      <th>reconstruction_costs_per_gdp</th>\n",
       "      <th>insured_damages_per_gdp</th>\n",
       "      <th>total_damages_per_gdp</th>\n",
       "      <th>total_dead_per_100k_people</th>\n",
       "      <th>injured_per_100k_people</th>\n",
       "      <th>affected_per_100k_people</th>\n",
       "      <th>homeless_per_100k_people</th>\n",
       "      <th>total_affected_per_100k_people</th>\n",
       "      <th>n_events_per_100k_people</th>\n",
       "    </tr>\n",
       "  </thead>\n",
       "  <tbody>\n",
       "    <tr>\n",
       "      <th>7518</th>\n",
       "      <td>Haiti</td>\n",
       "      <td>2010</td>\n",
       "      <td>earthquake</td>\n",
       "      <td>222570</td>\n",
       "      <td>300000</td>\n",
       "      <td>3400000</td>\n",
       "      <td>0</td>\n",
       "      <td>3700000</td>\n",
       "      <td>11500000000</td>\n",
       "      <td>200000000</td>\n",
       "      <td>...</td>\n",
       "      <td>1.185931e+10</td>\n",
       "      <td>96.970192</td>\n",
       "      <td>1.686438</td>\n",
       "      <td>67.457527</td>\n",
       "      <td>2261.227783</td>\n",
       "      <td>3047.887451</td>\n",
       "      <td>34542.726562</td>\n",
       "      <td>0.000000</td>\n",
       "      <td>37590.613281</td>\n",
       "      <td>0.010160</td>\n",
       "    </tr>\n",
       "    <tr>\n",
       "      <th>9117</th>\n",
       "      <td>Indonesia</td>\n",
       "      <td>2004</td>\n",
       "      <td>earthquake</td>\n",
       "      <td>165816</td>\n",
       "      <td>1253</td>\n",
       "      <td>139580</td>\n",
       "      <td>532898</td>\n",
       "      <td>673731</td>\n",
       "      <td>0</td>\n",
       "      <td>225041000</td>\n",
       "      <td>...</td>\n",
       "      <td>2.568369e+11</td>\n",
       "      <td>0.000000</td>\n",
       "      <td>0.087620</td>\n",
       "      <td>1.759716</td>\n",
       "      <td>73.389854</td>\n",
       "      <td>0.554575</td>\n",
       "      <td>61.777847</td>\n",
       "      <td>235.859665</td>\n",
       "      <td>298.192078</td>\n",
       "      <td>0.002656</td>\n",
       "    </tr>\n",
       "    <tr>\n",
       "      <th>4046</th>\n",
       "      <td>China</td>\n",
       "      <td>2008</td>\n",
       "      <td>earthquake</td>\n",
       "      <td>87564</td>\n",
       "      <td>368412</td>\n",
       "      <td>46587000</td>\n",
       "      <td>414385</td>\n",
       "      <td>47369797</td>\n",
       "      <td>10000000000</td>\n",
       "      <td>300000000</td>\n",
       "      <td>...</td>\n",
       "      <td>4.594307e+12</td>\n",
       "      <td>0.217661</td>\n",
       "      <td>0.006530</td>\n",
       "      <td>1.860825</td>\n",
       "      <td>6.582932</td>\n",
       "      <td>27.696669</td>\n",
       "      <td>3502.341797</td>\n",
       "      <td>31.152851</td>\n",
       "      <td>3561.191162</td>\n",
       "      <td>0.000526</td>\n",
       "    </tr>\n",
       "    <tr>\n",
       "      <th>14727</th>\n",
       "      <td>Pakistan</td>\n",
       "      <td>2005</td>\n",
       "      <td>earthquake</td>\n",
       "      <td>73338</td>\n",
       "      <td>128309</td>\n",
       "      <td>0</td>\n",
       "      <td>5000000</td>\n",
       "      <td>5128309</td>\n",
       "      <td>5200000000</td>\n",
       "      <td>0</td>\n",
       "      <td>...</td>\n",
       "      <td>1.200553e+11</td>\n",
       "      <td>4.331337</td>\n",
       "      <td>0.000000</td>\n",
       "      <td>4.331337</td>\n",
       "      <td>42.058334</td>\n",
       "      <td>73.583450</td>\n",
       "      <td>0.000000</td>\n",
       "      <td>2867.431152</td>\n",
       "      <td>2941.014648</td>\n",
       "      <td>0.000573</td>\n",
       "    </tr>\n",
       "    <tr>\n",
       "      <th>18845</th>\n",
       "      <td>Turkey</td>\n",
       "      <td>2023</td>\n",
       "      <td>earthquake</td>\n",
       "      <td>50103</td>\n",
       "      <td>107608</td>\n",
       "      <td>9100000</td>\n",
       "      <td>90</td>\n",
       "      <td>9207698</td>\n",
       "      <td>100000000000</td>\n",
       "      <td>0</td>\n",
       "      <td>...</td>\n",
       "      <td>NaN</td>\n",
       "      <td>NaN</td>\n",
       "      <td>NaN</td>\n",
       "      <td>NaN</td>\n",
       "      <td>58.384087</td>\n",
       "      <td>125.393585</td>\n",
       "      <td>10604.059570</td>\n",
       "      <td>0.104875</td>\n",
       "      <td>10729.557617</td>\n",
       "      <td>0.003496</td>\n",
       "    </tr>\n",
       "  </tbody>\n",
       "</table>\n",
       "<p>5 rows × 23 columns</p>\n",
       "</div>\n",
       "        "
      ],
      "text/plain": [
       "         country  year        type  total_dead  injured  affected  homeless  \\\n",
       "7518       Haiti  2010  earthquake      222570   300000   3400000         0   \n",
       "9117   Indonesia  2004  earthquake      165816     1253    139580    532898   \n",
       "4046       China  2008  earthquake       87564   368412  46587000    414385   \n",
       "14727   Pakistan  2005  earthquake       73338   128309         0   5000000   \n",
       "18845     Turkey  2023  earthquake       50103   107608   9100000        90   \n",
       "\n",
       "       total_affected  reconstruction_costs  insured_damages  ...  \\\n",
       "7518          3700000           11500000000        200000000  ...   \n",
       "9117           673731                     0        225041000  ...   \n",
       "4046         47369797           10000000000        300000000  ...   \n",
       "14727         5128309            5200000000                0  ...   \n",
       "18845         9207698          100000000000                0  ...   \n",
       "\n",
       "                gdp  reconstruction_costs_per_gdp  insured_damages_per_gdp  \\\n",
       "7518   1.185931e+10                     96.970192                 1.686438   \n",
       "9117   2.568369e+11                      0.000000                 0.087620   \n",
       "4046   4.594307e+12                      0.217661                 0.006530   \n",
       "14727  1.200553e+11                      4.331337                 0.000000   \n",
       "18845           NaN                           NaN                      NaN   \n",
       "\n",
       "       total_damages_per_gdp  total_dead_per_100k_people  \\\n",
       "7518               67.457527                 2261.227783   \n",
       "9117                1.759716                   73.389854   \n",
       "4046                1.860825                    6.582932   \n",
       "14727               4.331337                   42.058334   \n",
       "18845                    NaN                   58.384087   \n",
       "\n",
       "       injured_per_100k_people  affected_per_100k_people  \\\n",
       "7518               3047.887451              34542.726562   \n",
       "9117                  0.554575                 61.777847   \n",
       "4046                 27.696669               3502.341797   \n",
       "14727                73.583450                  0.000000   \n",
       "18845               125.393585              10604.059570   \n",
       "\n",
       "       homeless_per_100k_people  total_affected_per_100k_people  \\\n",
       "7518                   0.000000                    37590.613281   \n",
       "9117                 235.859665                      298.192078   \n",
       "4046                  31.152851                     3561.191162   \n",
       "14727               2867.431152                     2941.014648   \n",
       "18845                  0.104875                    10729.557617   \n",
       "\n",
       "       n_events_per_100k_people  \n",
       "7518                   0.010160  \n",
       "9117                   0.002656  \n",
       "4046                   0.000526  \n",
       "14727                  0.000573  \n",
       "18845                  0.003496  \n",
       "\n",
       "[5 rows x 23 columns]"
      ]
     },
     "execution_count": 22,
     "metadata": {},
     "output_type": "execute_result"
    }
   ],
   "source": [
    "df_dist = df_dist.sort_values(by=\"total_dead\", ascending = False)\n",
    "df3 = df_dist.head()\n",
    "df3"
   ]
  },
  {
   "cell_type": "code",
   "execution_count": 23,
   "id": "3fcbb39a",
   "metadata": {},
   "outputs": [
    {
     "name": "stderr",
     "output_type": "stream",
     "text": [
      "P:\\SelTopics\\test\\myenv\\Lib\\site-packages\\owid\\catalog\\tables.py:426: SettingWithCopyWarning: \n",
      "A value is trying to be set on a copy of a slice from a DataFrame\n",
      "\n",
      "See the caveats in the documentation: https://pandas.pydata.org/pandas-docs/stable/user_guide/indexing.html#returning-a-view-versus-a-copy\n",
      "  new_table = super().rename(*args, **kwargs)\n"
     ]
    }
   ],
   "source": [
    "df2.rename(columns={\"Location\": \"country\", \"Year\": \"year\", \"Estimated death toll\": \"deaths\"}, inplace=True)\n",
    "df3.rename(columns={\"total_dead\": \"deaths\"}, inplace=True)"
   ]
  },
  {
   "cell_type": "code",
   "execution_count": 26,
   "id": "ee3f210d",
   "metadata": {},
   "outputs": [
    {
     "data": {
      "text/html": [
       "<div>\n",
       "<style scoped>\n",
       "    .dataframe tbody tr th:only-of-type {\n",
       "        vertical-align: middle;\n",
       "    }\n",
       "\n",
       "    .dataframe tbody tr th {\n",
       "        vertical-align: top;\n",
       "    }\n",
       "\n",
       "    .dataframe thead th {\n",
       "        text-align: right;\n",
       "    }\n",
       "</style>\n",
       "<table border=\"1\" class=\"dataframe\">\n",
       "  <thead>\n",
       "    <tr style=\"text-align: right;\">\n",
       "      <th></th>\n",
       "      <th>country</th>\n",
       "      <th>year</th>\n",
       "      <th>deaths</th>\n",
       "    </tr>\n",
       "  </thead>\n",
       "  <tbody>\n",
       "    <tr>\n",
       "      <th>0</th>\n",
       "      <td>China</td>\n",
       "      <td>1556</td>\n",
       "      <td>830000</td>\n",
       "    </tr>\n",
       "    <tr>\n",
       "      <th>1</th>\n",
       "      <td>Haiti</td>\n",
       "      <td>2010</td>\n",
       "      <td>316000</td>\n",
       "    </tr>\n",
       "    <tr>\n",
       "      <th>2</th>\n",
       "      <td>Turkey</td>\n",
       "      <td>115</td>\n",
       "      <td>260000</td>\n",
       "    </tr>\n",
       "    <tr>\n",
       "      <th>3</th>\n",
       "      <td>Turkey</td>\n",
       "      <td>525</td>\n",
       "      <td>250000</td>\n",
       "    </tr>\n",
       "    <tr>\n",
       "      <th>4</th>\n",
       "      <td>China</td>\n",
       "      <td>1976</td>\n",
       "      <td>242769</td>\n",
       "    </tr>\n",
       "  </tbody>\n",
       "</table>\n",
       "</div>"
      ],
      "text/plain": [
       "   country  year  deaths\n",
       "0    China  1556  830000\n",
       "1    Haiti  2010  316000\n",
       "2   Turkey   115  260000\n",
       "3   Turkey   525  250000\n",
       "4    China  1976  242769"
      ]
     },
     "execution_count": 26,
     "metadata": {},
     "output_type": "execute_result"
    }
   ],
   "source": [
    "column1 = df2.columns.tolist()\n",
    "column1.remove('year')\n",
    "column1.remove('deaths')\n",
    "column1.remove('country')\n",
    "df2 = df2.drop(columns = column1)\n",
    "\n",
    "column2 = df3.columns.tolist()\n",
    "column2.remove('year')\n",
    "column2.remove('deaths')\n",
    "column2.remove('country')\n",
    "df3 = df3.drop(columns = column2)\n",
    "\n",
    "df2.head()"
   ]
  },
  {
   "cell_type": "code",
   "execution_count": 27,
   "id": "48f83853",
   "metadata": {},
   "outputs": [
    {
     "data": {
      "text/html": [
       "\n",
       "             <h2 style=\"margin-bottom: 0em\"><pre>natural_disasters_yearly</pre></h2>\n",
       "             <p style=\"font-variant: small-caps; font-size: 1.5em; font-family: sans-serif; color: grey; margin-top: -0.2em; margin-bottom: 0.2em\">table</p>\n",
       "             <div>\n",
       "<style scoped>\n",
       "    .dataframe tbody tr th:only-of-type {\n",
       "        vertical-align: middle;\n",
       "    }\n",
       "\n",
       "    .dataframe tbody tr th {\n",
       "        vertical-align: top;\n",
       "    }\n",
       "\n",
       "    .dataframe thead th {\n",
       "        text-align: right;\n",
       "    }\n",
       "</style>\n",
       "<table border=\"1\" class=\"dataframe\">\n",
       "  <thead>\n",
       "    <tr style=\"text-align: right;\">\n",
       "      <th></th>\n",
       "      <th>country</th>\n",
       "      <th>year</th>\n",
       "      <th>deaths</th>\n",
       "    </tr>\n",
       "  </thead>\n",
       "  <tbody>\n",
       "    <tr>\n",
       "      <th>7518</th>\n",
       "      <td>Haiti</td>\n",
       "      <td>2010</td>\n",
       "      <td>222570</td>\n",
       "    </tr>\n",
       "    <tr>\n",
       "      <th>9117</th>\n",
       "      <td>Indonesia</td>\n",
       "      <td>2004</td>\n",
       "      <td>165816</td>\n",
       "    </tr>\n",
       "    <tr>\n",
       "      <th>4046</th>\n",
       "      <td>China</td>\n",
       "      <td>2008</td>\n",
       "      <td>87564</td>\n",
       "    </tr>\n",
       "    <tr>\n",
       "      <th>14727</th>\n",
       "      <td>Pakistan</td>\n",
       "      <td>2005</td>\n",
       "      <td>73338</td>\n",
       "    </tr>\n",
       "    <tr>\n",
       "      <th>18845</th>\n",
       "      <td>Turkey</td>\n",
       "      <td>2023</td>\n",
       "      <td>50103</td>\n",
       "    </tr>\n",
       "  </tbody>\n",
       "</table>\n",
       "</div>\n",
       "        "
      ],
      "text/plain": [
       "         country  year  deaths\n",
       "7518       Haiti  2010  222570\n",
       "9117   Indonesia  2004  165816\n",
       "4046       China  2008   87564\n",
       "14727   Pakistan  2005   73338\n",
       "18845     Turkey  2023   50103"
      ]
     },
     "execution_count": 27,
     "metadata": {},
     "output_type": "execute_result"
    }
   ],
   "source": [
    "df3.head()"
   ]
  },
  {
   "cell_type": "code",
   "execution_count": 29,
   "id": "0a683d0c",
   "metadata": {},
   "outputs": [],
   "source": [
    "df2['country'] = df2['country'].str.strip()\n",
    "df3['country'] = df3['country'].str.strip()"
   ]
  },
  {
   "cell_type": "code",
   "execution_count": 30,
   "id": "a6910f24",
   "metadata": {},
   "outputs": [
    {
     "data": {
      "text/html": [
       "<div>\n",
       "<style scoped>\n",
       "    .dataframe tbody tr th:only-of-type {\n",
       "        vertical-align: middle;\n",
       "    }\n",
       "\n",
       "    .dataframe tbody tr th {\n",
       "        vertical-align: top;\n",
       "    }\n",
       "\n",
       "    .dataframe thead th {\n",
       "        text-align: right;\n",
       "    }\n",
       "</style>\n",
       "<table border=\"1\" class=\"dataframe\">\n",
       "  <thead>\n",
       "    <tr style=\"text-align: right;\">\n",
       "      <th></th>\n",
       "      <th>country</th>\n",
       "      <th>year</th>\n",
       "      <th>deaths</th>\n",
       "    </tr>\n",
       "  </thead>\n",
       "  <tbody>\n",
       "    <tr>\n",
       "      <th>0</th>\n",
       "      <td>China</td>\n",
       "      <td>1556</td>\n",
       "      <td>830000</td>\n",
       "    </tr>\n",
       "    <tr>\n",
       "      <th>1</th>\n",
       "      <td>Haiti</td>\n",
       "      <td>2010</td>\n",
       "      <td>316000</td>\n",
       "    </tr>\n",
       "    <tr>\n",
       "      <th>2</th>\n",
       "      <td>Turkey</td>\n",
       "      <td>115</td>\n",
       "      <td>260000</td>\n",
       "    </tr>\n",
       "    <tr>\n",
       "      <th>3</th>\n",
       "      <td>Turkey</td>\n",
       "      <td>525</td>\n",
       "      <td>250000</td>\n",
       "    </tr>\n",
       "    <tr>\n",
       "      <th>4</th>\n",
       "      <td>China</td>\n",
       "      <td>1976</td>\n",
       "      <td>242769</td>\n",
       "    </tr>\n",
       "    <tr>\n",
       "      <th>5</th>\n",
       "      <td>Azerbaijan</td>\n",
       "      <td>1139</td>\n",
       "      <td>230000</td>\n",
       "    </tr>\n",
       "    <tr>\n",
       "      <th>6</th>\n",
       "      <td>Indonesia</td>\n",
       "      <td>2004</td>\n",
       "      <td>227899</td>\n",
       "    </tr>\n",
       "    <tr>\n",
       "      <th>7</th>\n",
       "      <td>Iran</td>\n",
       "      <td>856</td>\n",
       "      <td>200000</td>\n",
       "    </tr>\n",
       "    <tr>\n",
       "      <th>8</th>\n",
       "      <td>China</td>\n",
       "      <td>1920</td>\n",
       "      <td>200000</td>\n",
       "    </tr>\n",
       "    <tr>\n",
       "      <th>9</th>\n",
       "      <td>Armenia</td>\n",
       "      <td>893</td>\n",
       "      <td>150000</td>\n",
       "    </tr>\n",
       "    <tr>\n",
       "      <th>10</th>\n",
       "      <td>Japan</td>\n",
       "      <td>1923</td>\n",
       "      <td>142807</td>\n",
       "    </tr>\n",
       "  </tbody>\n",
       "</table>\n",
       "</div>"
      ],
      "text/plain": [
       "       country  year  deaths\n",
       "0        China  1556  830000\n",
       "1        Haiti  2010  316000\n",
       "2       Turkey   115  260000\n",
       "3       Turkey   525  250000\n",
       "4        China  1976  242769\n",
       "5   Azerbaijan  1139  230000\n",
       "6    Indonesia  2004  227899\n",
       "7         Iran   856  200000\n",
       "8        China  1920  200000\n",
       "9      Armenia   893  150000\n",
       "10       Japan  1923  142807"
      ]
     },
     "execution_count": 30,
     "metadata": {},
     "output_type": "execute_result"
    }
   ],
   "source": [
    "df2"
   ]
  },
  {
   "cell_type": "code",
   "execution_count": 31,
   "id": "65467dcb",
   "metadata": {},
   "outputs": [
    {
     "data": {
      "text/html": [
       "\n",
       "             <h2 style=\"margin-bottom: 0em\"><pre>natural_disasters_yearly</pre></h2>\n",
       "             <p style=\"font-variant: small-caps; font-size: 1.5em; font-family: sans-serif; color: grey; margin-top: -0.2em; margin-bottom: 0.2em\">table</p>\n",
       "             <div>\n",
       "<style scoped>\n",
       "    .dataframe tbody tr th:only-of-type {\n",
       "        vertical-align: middle;\n",
       "    }\n",
       "\n",
       "    .dataframe tbody tr th {\n",
       "        vertical-align: top;\n",
       "    }\n",
       "\n",
       "    .dataframe thead th {\n",
       "        text-align: right;\n",
       "    }\n",
       "</style>\n",
       "<table border=\"1\" class=\"dataframe\">\n",
       "  <thead>\n",
       "    <tr style=\"text-align: right;\">\n",
       "      <th></th>\n",
       "      <th>country</th>\n",
       "      <th>year</th>\n",
       "      <th>deaths</th>\n",
       "    </tr>\n",
       "  </thead>\n",
       "  <tbody>\n",
       "    <tr>\n",
       "      <th>7518</th>\n",
       "      <td>Haiti</td>\n",
       "      <td>2010</td>\n",
       "      <td>222570</td>\n",
       "    </tr>\n",
       "    <tr>\n",
       "      <th>9117</th>\n",
       "      <td>Indonesia</td>\n",
       "      <td>2004</td>\n",
       "      <td>165816</td>\n",
       "    </tr>\n",
       "    <tr>\n",
       "      <th>4046</th>\n",
       "      <td>China</td>\n",
       "      <td>2008</td>\n",
       "      <td>87564</td>\n",
       "    </tr>\n",
       "    <tr>\n",
       "      <th>14727</th>\n",
       "      <td>Pakistan</td>\n",
       "      <td>2005</td>\n",
       "      <td>73338</td>\n",
       "    </tr>\n",
       "    <tr>\n",
       "      <th>18845</th>\n",
       "      <td>Turkey</td>\n",
       "      <td>2023</td>\n",
       "      <td>50103</td>\n",
       "    </tr>\n",
       "  </tbody>\n",
       "</table>\n",
       "</div>\n",
       "        "
      ],
      "text/plain": [
       "         country  year  deaths\n",
       "7518       Haiti  2010  222570\n",
       "9117   Indonesia  2004  165816\n",
       "4046       China  2008   87564\n",
       "14727   Pakistan  2005   73338\n",
       "18845     Turkey  2023   50103"
      ]
     },
     "execution_count": 31,
     "metadata": {},
     "output_type": "execute_result"
    }
   ],
   "source": [
    "df3"
   ]
  },
  {
   "cell_type": "code",
   "execution_count": 32,
   "id": "1330828e",
   "metadata": {},
   "outputs": [
    {
     "data": {
      "text/html": [
       "<div>\n",
       "<style scoped>\n",
       "    .dataframe tbody tr th:only-of-type {\n",
       "        vertical-align: middle;\n",
       "    }\n",
       "\n",
       "    .dataframe tbody tr th {\n",
       "        vertical-align: top;\n",
       "    }\n",
       "\n",
       "    .dataframe thead th {\n",
       "        text-align: right;\n",
       "    }\n",
       "</style>\n",
       "<table border=\"1\" class=\"dataframe\">\n",
       "  <thead>\n",
       "    <tr style=\"text-align: right;\">\n",
       "      <th></th>\n",
       "      <th>country</th>\n",
       "      <th>year</th>\n",
       "      <th>deaths</th>\n",
       "    </tr>\n",
       "  </thead>\n",
       "  <tbody>\n",
       "    <tr>\n",
       "      <th>0</th>\n",
       "      <td>China</td>\n",
       "      <td>1556.0</td>\n",
       "      <td>830000</td>\n",
       "    </tr>\n",
       "    <tr>\n",
       "      <th>1</th>\n",
       "      <td>Haiti</td>\n",
       "      <td>2010.0</td>\n",
       "      <td>316000</td>\n",
       "    </tr>\n",
       "    <tr>\n",
       "      <th>2</th>\n",
       "      <td>Turkey</td>\n",
       "      <td>115.0</td>\n",
       "      <td>260000</td>\n",
       "    </tr>\n",
       "    <tr>\n",
       "      <th>3</th>\n",
       "      <td>Turkey</td>\n",
       "      <td>525.0</td>\n",
       "      <td>250000</td>\n",
       "    </tr>\n",
       "    <tr>\n",
       "      <th>4</th>\n",
       "      <td>China</td>\n",
       "      <td>1976.0</td>\n",
       "      <td>242769</td>\n",
       "    </tr>\n",
       "    <tr>\n",
       "      <th>5</th>\n",
       "      <td>Azerbaijan</td>\n",
       "      <td>1139.0</td>\n",
       "      <td>230000</td>\n",
       "    </tr>\n",
       "    <tr>\n",
       "      <th>6</th>\n",
       "      <td>Indonesia</td>\n",
       "      <td>2004.0</td>\n",
       "      <td>227899</td>\n",
       "    </tr>\n",
       "    <tr>\n",
       "      <th>7</th>\n",
       "      <td>Iran</td>\n",
       "      <td>856.0</td>\n",
       "      <td>200000</td>\n",
       "    </tr>\n",
       "    <tr>\n",
       "      <th>8</th>\n",
       "      <td>China</td>\n",
       "      <td>1920.0</td>\n",
       "      <td>200000</td>\n",
       "    </tr>\n",
       "    <tr>\n",
       "      <th>9</th>\n",
       "      <td>Armenia</td>\n",
       "      <td>893.0</td>\n",
       "      <td>150000</td>\n",
       "    </tr>\n",
       "    <tr>\n",
       "      <th>10</th>\n",
       "      <td>Japan</td>\n",
       "      <td>1923.0</td>\n",
       "      <td>142807</td>\n",
       "    </tr>\n",
       "    <tr>\n",
       "      <th>4046</th>\n",
       "      <td>China</td>\n",
       "      <td>2008.0</td>\n",
       "      <td>87564</td>\n",
       "    </tr>\n",
       "    <tr>\n",
       "      <th>14727</th>\n",
       "      <td>Pakistan</td>\n",
       "      <td>2005.0</td>\n",
       "      <td>73338</td>\n",
       "    </tr>\n",
       "    <tr>\n",
       "      <th>18845</th>\n",
       "      <td>Turkey</td>\n",
       "      <td>2023.0</td>\n",
       "      <td>50103</td>\n",
       "    </tr>\n",
       "  </tbody>\n",
       "</table>\n",
       "</div>"
      ],
      "text/plain": [
       "          country    year  deaths\n",
       "0           China  1556.0  830000\n",
       "1           Haiti  2010.0  316000\n",
       "2          Turkey   115.0  260000\n",
       "3          Turkey   525.0  250000\n",
       "4           China  1976.0  242769\n",
       "5      Azerbaijan  1139.0  230000\n",
       "6       Indonesia  2004.0  227899\n",
       "7            Iran   856.0  200000\n",
       "8           China  1920.0  200000\n",
       "9         Armenia   893.0  150000\n",
       "10          Japan  1923.0  142807\n",
       "4046        China  2008.0   87564\n",
       "14727    Pakistan  2005.0   73338\n",
       "18845      Turkey  2023.0   50103"
      ]
     },
     "execution_count": 32,
     "metadata": {},
     "output_type": "execute_result"
    }
   ],
   "source": [
    "df_last = pd.concat([df2, df3])\n",
    "df_last = df_last.drop_duplicates(subset=[\"country\", \"year\"])\n",
    "\n",
    "df_last"
   ]
  },
  {
   "cell_type": "code",
   "execution_count": 34,
   "id": "bba83776",
   "metadata": {},
   "outputs": [
    {
     "data": {
      "text/html": [
       "<div>\n",
       "<style scoped>\n",
       "    .dataframe tbody tr th:only-of-type {\n",
       "        vertical-align: middle;\n",
       "    }\n",
       "\n",
       "    .dataframe tbody tr th {\n",
       "        vertical-align: top;\n",
       "    }\n",
       "\n",
       "    .dataframe thead th {\n",
       "        text-align: right;\n",
       "    }\n",
       "</style>\n",
       "<table border=\"1\" class=\"dataframe\">\n",
       "  <thead>\n",
       "    <tr style=\"text-align: right;\">\n",
       "      <th></th>\n",
       "      <th>country</th>\n",
       "      <th>year</th>\n",
       "      <th>deaths</th>\n",
       "      <th>Database</th>\n",
       "    </tr>\n",
       "  </thead>\n",
       "  <tbody>\n",
       "    <tr>\n",
       "      <th>0</th>\n",
       "      <td>China</td>\n",
       "      <td>1556</td>\n",
       "      <td>830000</td>\n",
       "      <td>10 Deadliest Quakes in History</td>\n",
       "    </tr>\n",
       "    <tr>\n",
       "      <th>1</th>\n",
       "      <td>Haiti</td>\n",
       "      <td>2010</td>\n",
       "      <td>316000</td>\n",
       "      <td>Deadly Since 2000</td>\n",
       "    </tr>\n",
       "    <tr>\n",
       "      <th>2</th>\n",
       "      <td>Turkey</td>\n",
       "      <td>115</td>\n",
       "      <td>260000</td>\n",
       "      <td>10 Deadliest Quakes in History</td>\n",
       "    </tr>\n",
       "    <tr>\n",
       "      <th>3</th>\n",
       "      <td>Turkey</td>\n",
       "      <td>525</td>\n",
       "      <td>250000</td>\n",
       "      <td>10 Deadliest Quakes in History</td>\n",
       "    </tr>\n",
       "    <tr>\n",
       "      <th>4</th>\n",
       "      <td>China</td>\n",
       "      <td>1976</td>\n",
       "      <td>242769</td>\n",
       "      <td>10 Deadliest Quakes in History</td>\n",
       "    </tr>\n",
       "    <tr>\n",
       "      <th>5</th>\n",
       "      <td>Azerbaijan</td>\n",
       "      <td>1139</td>\n",
       "      <td>230000</td>\n",
       "      <td>10 Deadliest Quakes in History</td>\n",
       "    </tr>\n",
       "    <tr>\n",
       "      <th>6</th>\n",
       "      <td>Indonesia</td>\n",
       "      <td>2004</td>\n",
       "      <td>227899</td>\n",
       "      <td>Deadly Since 2000</td>\n",
       "    </tr>\n",
       "    <tr>\n",
       "      <th>7</th>\n",
       "      <td>Iran</td>\n",
       "      <td>856</td>\n",
       "      <td>200000</td>\n",
       "      <td>10 Deadliest Quakes in History</td>\n",
       "    </tr>\n",
       "    <tr>\n",
       "      <th>8</th>\n",
       "      <td>China</td>\n",
       "      <td>1920</td>\n",
       "      <td>200000</td>\n",
       "      <td>10 Deadliest Quakes in History</td>\n",
       "    </tr>\n",
       "    <tr>\n",
       "      <th>9</th>\n",
       "      <td>Armenia</td>\n",
       "      <td>893</td>\n",
       "      <td>150000</td>\n",
       "      <td>10 Deadliest Quakes in History</td>\n",
       "    </tr>\n",
       "    <tr>\n",
       "      <th>10</th>\n",
       "      <td>Japan</td>\n",
       "      <td>1923</td>\n",
       "      <td>142807</td>\n",
       "      <td>10 Deadliest Quakes in History</td>\n",
       "    </tr>\n",
       "    <tr>\n",
       "      <th>4046</th>\n",
       "      <td>China</td>\n",
       "      <td>2008</td>\n",
       "      <td>87564</td>\n",
       "      <td>Deadly Since 2000</td>\n",
       "    </tr>\n",
       "    <tr>\n",
       "      <th>14727</th>\n",
       "      <td>Pakistan</td>\n",
       "      <td>2005</td>\n",
       "      <td>73338</td>\n",
       "      <td>Deadly Since 2000</td>\n",
       "    </tr>\n",
       "    <tr>\n",
       "      <th>18845</th>\n",
       "      <td>Turkey</td>\n",
       "      <td>2023</td>\n",
       "      <td>50103</td>\n",
       "      <td>Deadly Since 2000</td>\n",
       "    </tr>\n",
       "  </tbody>\n",
       "</table>\n",
       "</div>"
      ],
      "text/plain": [
       "          country  year  deaths                        Database\n",
       "0           China  1556  830000  10 Deadliest Quakes in History\n",
       "1           Haiti  2010  316000               Deadly Since 2000\n",
       "2          Turkey   115  260000  10 Deadliest Quakes in History\n",
       "3          Turkey   525  250000  10 Deadliest Quakes in History\n",
       "4           China  1976  242769  10 Deadliest Quakes in History\n",
       "5      Azerbaijan  1139  230000  10 Deadliest Quakes in History\n",
       "6       Indonesia  2004  227899               Deadly Since 2000\n",
       "7            Iran   856  200000  10 Deadliest Quakes in History\n",
       "8           China  1920  200000  10 Deadliest Quakes in History\n",
       "9         Armenia   893  150000  10 Deadliest Quakes in History\n",
       "10          Japan  1923  142807  10 Deadliest Quakes in History\n",
       "4046        China  2008   87564               Deadly Since 2000\n",
       "14727    Pakistan  2005   73338               Deadly Since 2000\n",
       "18845      Turkey  2023   50103               Deadly Since 2000"
      ]
     },
     "execution_count": 34,
     "metadata": {},
     "output_type": "execute_result"
    }
   ],
   "source": [
    "df_last[\"Database\"] = ['10 Deadliest Quakes in History', 'Deadly Since 2000', '10 Deadliest Quakes in History', '10 Deadliest Quakes in History', '10 Deadliest Quakes in History', '10 Deadliest Quakes in History', 'Deadly Since 2000', '10 Deadliest Quakes in History', '10 Deadliest Quakes in History', '10 Deadliest Quakes in History', '10 Deadliest Quakes in History', 'Deadly Since 2000', 'Deadly Since 2000', 'Deadly Since 2000']\n",
    "df_last = df_last.sort_values(by=\"deaths\", ascending = False)\n",
    "df_last['year'] = df_last['year'].astype(int)\n",
    "df_last"
   ]
  },
  {
   "cell_type": "code",
   "execution_count": 36,
   "id": "fc5c863d",
   "metadata": {},
   "outputs": [
    {
     "data": {
      "application/vnd.plotly.v1+json": {
       "config": {
        "plotlyServerURL": "https://plot.ly"
       },
       "data": [
        {
         "alignmentgroup": "True",
         "hovertemplate": "Database=10 Deadliest Quakes in History<br>Deaths=%{x}<br>y=%{y}<extra></extra>",
         "legendgroup": "10 Deadliest Quakes in History",
         "marker": {
          "color": "blue",
          "pattern": {
           "shape": ""
          }
         },
         "name": "10 Deadliest Quakes in History",
         "offsetgroup": "10 Deadliest Quakes in History",
         "orientation": "h",
         "showlegend": true,
         "textposition": "auto",
         "type": "bar",
         "x": [
          830000,
          260000,
          250000,
          242769,
          230000,
          200000,
          200000,
          150000,
          142807
         ],
         "xaxis": "x",
         "y": [
          "China 1556",
          "Turkey 115",
          "Turkey 525",
          "China 1976",
          "Azerbaijan 1139",
          "Iran 856",
          "China 1920",
          "Armenia 893",
          "Japan 1923"
         ],
         "yaxis": "y"
        },
        {
         "alignmentgroup": "True",
         "hovertemplate": "Database=Deadly Since 2000<br>Deaths=%{x}<br>y=%{y}<extra></extra>",
         "legendgroup": "Deadly Since 2000",
         "marker": {
          "color": "red",
          "pattern": {
           "shape": ""
          }
         },
         "name": "Deadly Since 2000",
         "offsetgroup": "Deadly Since 2000",
         "orientation": "h",
         "showlegend": true,
         "textposition": "auto",
         "type": "bar",
         "x": [
          316000,
          227899,
          87564,
          73338,
          50103
         ],
         "xaxis": "x",
         "y": [
          "Haiti 2010",
          "Indonesia 2004",
          "China 2008",
          "Pakistan 2005",
          "Turkey 2023"
         ],
         "yaxis": "y"
        }
       ],
       "layout": {
        "barmode": "relative",
        "legend": {
         "title": {
          "text": ""
         },
         "tracegroupgap": 0
        },
        "showlegend": true,
        "template": {
         "data": {
          "bar": [
           {
            "error_x": {
             "color": "#2a3f5f"
            },
            "error_y": {
             "color": "#2a3f5f"
            },
            "marker": {
             "line": {
              "color": "#E5ECF6",
              "width": 0.5
             },
             "pattern": {
              "fillmode": "overlay",
              "size": 10,
              "solidity": 0.2
             }
            },
            "type": "bar"
           }
          ],
          "barpolar": [
           {
            "marker": {
             "line": {
              "color": "#E5ECF6",
              "width": 0.5
             },
             "pattern": {
              "fillmode": "overlay",
              "size": 10,
              "solidity": 0.2
             }
            },
            "type": "barpolar"
           }
          ],
          "carpet": [
           {
            "aaxis": {
             "endlinecolor": "#2a3f5f",
             "gridcolor": "white",
             "linecolor": "white",
             "minorgridcolor": "white",
             "startlinecolor": "#2a3f5f"
            },
            "baxis": {
             "endlinecolor": "#2a3f5f",
             "gridcolor": "white",
             "linecolor": "white",
             "minorgridcolor": "white",
             "startlinecolor": "#2a3f5f"
            },
            "type": "carpet"
           }
          ],
          "choropleth": [
           {
            "colorbar": {
             "outlinewidth": 0,
             "ticks": ""
            },
            "type": "choropleth"
           }
          ],
          "contour": [
           {
            "colorbar": {
             "outlinewidth": 0,
             "ticks": ""
            },
            "colorscale": [
             [
              0,
              "#0d0887"
             ],
             [
              0.1111111111111111,
              "#46039f"
             ],
             [
              0.2222222222222222,
              "#7201a8"
             ],
             [
              0.3333333333333333,
              "#9c179e"
             ],
             [
              0.4444444444444444,
              "#bd3786"
             ],
             [
              0.5555555555555556,
              "#d8576b"
             ],
             [
              0.6666666666666666,
              "#ed7953"
             ],
             [
              0.7777777777777778,
              "#fb9f3a"
             ],
             [
              0.8888888888888888,
              "#fdca26"
             ],
             [
              1,
              "#f0f921"
             ]
            ],
            "type": "contour"
           }
          ],
          "contourcarpet": [
           {
            "colorbar": {
             "outlinewidth": 0,
             "ticks": ""
            },
            "type": "contourcarpet"
           }
          ],
          "heatmap": [
           {
            "colorbar": {
             "outlinewidth": 0,
             "ticks": ""
            },
            "colorscale": [
             [
              0,
              "#0d0887"
             ],
             [
              0.1111111111111111,
              "#46039f"
             ],
             [
              0.2222222222222222,
              "#7201a8"
             ],
             [
              0.3333333333333333,
              "#9c179e"
             ],
             [
              0.4444444444444444,
              "#bd3786"
             ],
             [
              0.5555555555555556,
              "#d8576b"
             ],
             [
              0.6666666666666666,
              "#ed7953"
             ],
             [
              0.7777777777777778,
              "#fb9f3a"
             ],
             [
              0.8888888888888888,
              "#fdca26"
             ],
             [
              1,
              "#f0f921"
             ]
            ],
            "type": "heatmap"
           }
          ],
          "heatmapgl": [
           {
            "colorbar": {
             "outlinewidth": 0,
             "ticks": ""
            },
            "colorscale": [
             [
              0,
              "#0d0887"
             ],
             [
              0.1111111111111111,
              "#46039f"
             ],
             [
              0.2222222222222222,
              "#7201a8"
             ],
             [
              0.3333333333333333,
              "#9c179e"
             ],
             [
              0.4444444444444444,
              "#bd3786"
             ],
             [
              0.5555555555555556,
              "#d8576b"
             ],
             [
              0.6666666666666666,
              "#ed7953"
             ],
             [
              0.7777777777777778,
              "#fb9f3a"
             ],
             [
              0.8888888888888888,
              "#fdca26"
             ],
             [
              1,
              "#f0f921"
             ]
            ],
            "type": "heatmapgl"
           }
          ],
          "histogram": [
           {
            "marker": {
             "pattern": {
              "fillmode": "overlay",
              "size": 10,
              "solidity": 0.2
             }
            },
            "type": "histogram"
           }
          ],
          "histogram2d": [
           {
            "colorbar": {
             "outlinewidth": 0,
             "ticks": ""
            },
            "colorscale": [
             [
              0,
              "#0d0887"
             ],
             [
              0.1111111111111111,
              "#46039f"
             ],
             [
              0.2222222222222222,
              "#7201a8"
             ],
             [
              0.3333333333333333,
              "#9c179e"
             ],
             [
              0.4444444444444444,
              "#bd3786"
             ],
             [
              0.5555555555555556,
              "#d8576b"
             ],
             [
              0.6666666666666666,
              "#ed7953"
             ],
             [
              0.7777777777777778,
              "#fb9f3a"
             ],
             [
              0.8888888888888888,
              "#fdca26"
             ],
             [
              1,
              "#f0f921"
             ]
            ],
            "type": "histogram2d"
           }
          ],
          "histogram2dcontour": [
           {
            "colorbar": {
             "outlinewidth": 0,
             "ticks": ""
            },
            "colorscale": [
             [
              0,
              "#0d0887"
             ],
             [
              0.1111111111111111,
              "#46039f"
             ],
             [
              0.2222222222222222,
              "#7201a8"
             ],
             [
              0.3333333333333333,
              "#9c179e"
             ],
             [
              0.4444444444444444,
              "#bd3786"
             ],
             [
              0.5555555555555556,
              "#d8576b"
             ],
             [
              0.6666666666666666,
              "#ed7953"
             ],
             [
              0.7777777777777778,
              "#fb9f3a"
             ],
             [
              0.8888888888888888,
              "#fdca26"
             ],
             [
              1,
              "#f0f921"
             ]
            ],
            "type": "histogram2dcontour"
           }
          ],
          "mesh3d": [
           {
            "colorbar": {
             "outlinewidth": 0,
             "ticks": ""
            },
            "type": "mesh3d"
           }
          ],
          "parcoords": [
           {
            "line": {
             "colorbar": {
              "outlinewidth": 0,
              "ticks": ""
             }
            },
            "type": "parcoords"
           }
          ],
          "pie": [
           {
            "automargin": true,
            "type": "pie"
           }
          ],
          "scatter": [
           {
            "fillpattern": {
             "fillmode": "overlay",
             "size": 10,
             "solidity": 0.2
            },
            "type": "scatter"
           }
          ],
          "scatter3d": [
           {
            "line": {
             "colorbar": {
              "outlinewidth": 0,
              "ticks": ""
             }
            },
            "marker": {
             "colorbar": {
              "outlinewidth": 0,
              "ticks": ""
             }
            },
            "type": "scatter3d"
           }
          ],
          "scattercarpet": [
           {
            "marker": {
             "colorbar": {
              "outlinewidth": 0,
              "ticks": ""
             }
            },
            "type": "scattercarpet"
           }
          ],
          "scattergeo": [
           {
            "marker": {
             "colorbar": {
              "outlinewidth": 0,
              "ticks": ""
             }
            },
            "type": "scattergeo"
           }
          ],
          "scattergl": [
           {
            "marker": {
             "colorbar": {
              "outlinewidth": 0,
              "ticks": ""
             }
            },
            "type": "scattergl"
           }
          ],
          "scattermapbox": [
           {
            "marker": {
             "colorbar": {
              "outlinewidth": 0,
              "ticks": ""
             }
            },
            "type": "scattermapbox"
           }
          ],
          "scatterpolar": [
           {
            "marker": {
             "colorbar": {
              "outlinewidth": 0,
              "ticks": ""
             }
            },
            "type": "scatterpolar"
           }
          ],
          "scatterpolargl": [
           {
            "marker": {
             "colorbar": {
              "outlinewidth": 0,
              "ticks": ""
             }
            },
            "type": "scatterpolargl"
           }
          ],
          "scatterternary": [
           {
            "marker": {
             "colorbar": {
              "outlinewidth": 0,
              "ticks": ""
             }
            },
            "type": "scatterternary"
           }
          ],
          "surface": [
           {
            "colorbar": {
             "outlinewidth": 0,
             "ticks": ""
            },
            "colorscale": [
             [
              0,
              "#0d0887"
             ],
             [
              0.1111111111111111,
              "#46039f"
             ],
             [
              0.2222222222222222,
              "#7201a8"
             ],
             [
              0.3333333333333333,
              "#9c179e"
             ],
             [
              0.4444444444444444,
              "#bd3786"
             ],
             [
              0.5555555555555556,
              "#d8576b"
             ],
             [
              0.6666666666666666,
              "#ed7953"
             ],
             [
              0.7777777777777778,
              "#fb9f3a"
             ],
             [
              0.8888888888888888,
              "#fdca26"
             ],
             [
              1,
              "#f0f921"
             ]
            ],
            "type": "surface"
           }
          ],
          "table": [
           {
            "cells": {
             "fill": {
              "color": "#EBF0F8"
             },
             "line": {
              "color": "white"
             }
            },
            "header": {
             "fill": {
              "color": "#C8D4E3"
             },
             "line": {
              "color": "white"
             }
            },
            "type": "table"
           }
          ]
         },
         "layout": {
          "annotationdefaults": {
           "arrowcolor": "#2a3f5f",
           "arrowhead": 0,
           "arrowwidth": 1
          },
          "autotypenumbers": "strict",
          "coloraxis": {
           "colorbar": {
            "outlinewidth": 0,
            "ticks": ""
           }
          },
          "colorscale": {
           "diverging": [
            [
             0,
             "#8e0152"
            ],
            [
             0.1,
             "#c51b7d"
            ],
            [
             0.2,
             "#de77ae"
            ],
            [
             0.3,
             "#f1b6da"
            ],
            [
             0.4,
             "#fde0ef"
            ],
            [
             0.5,
             "#f7f7f7"
            ],
            [
             0.6,
             "#e6f5d0"
            ],
            [
             0.7,
             "#b8e186"
            ],
            [
             0.8,
             "#7fbc41"
            ],
            [
             0.9,
             "#4d9221"
            ],
            [
             1,
             "#276419"
            ]
           ],
           "sequential": [
            [
             0,
             "#0d0887"
            ],
            [
             0.1111111111111111,
             "#46039f"
            ],
            [
             0.2222222222222222,
             "#7201a8"
            ],
            [
             0.3333333333333333,
             "#9c179e"
            ],
            [
             0.4444444444444444,
             "#bd3786"
            ],
            [
             0.5555555555555556,
             "#d8576b"
            ],
            [
             0.6666666666666666,
             "#ed7953"
            ],
            [
             0.7777777777777778,
             "#fb9f3a"
            ],
            [
             0.8888888888888888,
             "#fdca26"
            ],
            [
             1,
             "#f0f921"
            ]
           ],
           "sequentialminus": [
            [
             0,
             "#0d0887"
            ],
            [
             0.1111111111111111,
             "#46039f"
            ],
            [
             0.2222222222222222,
             "#7201a8"
            ],
            [
             0.3333333333333333,
             "#9c179e"
            ],
            [
             0.4444444444444444,
             "#bd3786"
            ],
            [
             0.5555555555555556,
             "#d8576b"
            ],
            [
             0.6666666666666666,
             "#ed7953"
            ],
            [
             0.7777777777777778,
             "#fb9f3a"
            ],
            [
             0.8888888888888888,
             "#fdca26"
            ],
            [
             1,
             "#f0f921"
            ]
           ]
          },
          "colorway": [
           "#636efa",
           "#EF553B",
           "#00cc96",
           "#ab63fa",
           "#FFA15A",
           "#19d3f3",
           "#FF6692",
           "#B6E880",
           "#FF97FF",
           "#FECB52"
          ],
          "font": {
           "color": "#2a3f5f"
          },
          "geo": {
           "bgcolor": "white",
           "lakecolor": "white",
           "landcolor": "#E5ECF6",
           "showlakes": true,
           "showland": true,
           "subunitcolor": "white"
          },
          "hoverlabel": {
           "align": "left"
          },
          "hovermode": "closest",
          "mapbox": {
           "style": "light"
          },
          "paper_bgcolor": "white",
          "plot_bgcolor": "#E5ECF6",
          "polar": {
           "angularaxis": {
            "gridcolor": "white",
            "linecolor": "white",
            "ticks": ""
           },
           "bgcolor": "#E5ECF6",
           "radialaxis": {
            "gridcolor": "white",
            "linecolor": "white",
            "ticks": ""
           }
          },
          "scene": {
           "xaxis": {
            "backgroundcolor": "#E5ECF6",
            "gridcolor": "white",
            "gridwidth": 2,
            "linecolor": "white",
            "showbackground": true,
            "ticks": "",
            "zerolinecolor": "white"
           },
           "yaxis": {
            "backgroundcolor": "#E5ECF6",
            "gridcolor": "white",
            "gridwidth": 2,
            "linecolor": "white",
            "showbackground": true,
            "ticks": "",
            "zerolinecolor": "white"
           },
           "zaxis": {
            "backgroundcolor": "#E5ECF6",
            "gridcolor": "white",
            "gridwidth": 2,
            "linecolor": "white",
            "showbackground": true,
            "ticks": "",
            "zerolinecolor": "white"
           }
          },
          "shapedefaults": {
           "line": {
            "color": "#2a3f5f"
           }
          },
          "ternary": {
           "aaxis": {
            "gridcolor": "white",
            "linecolor": "white",
            "ticks": ""
           },
           "baxis": {
            "gridcolor": "white",
            "linecolor": "white",
            "ticks": ""
           },
           "bgcolor": "#E5ECF6",
           "caxis": {
            "gridcolor": "white",
            "linecolor": "white",
            "ticks": ""
           }
          },
          "title": {
           "x": 0.05
          },
          "xaxis": {
           "automargin": true,
           "gridcolor": "white",
           "linecolor": "white",
           "ticks": "",
           "title": {
            "standoff": 15
           },
           "zerolinecolor": "white",
           "zerolinewidth": 2
          },
          "yaxis": {
           "automargin": true,
           "gridcolor": "white",
           "linecolor": "white",
           "ticks": "",
           "title": {
            "standoff": 15
           },
           "zerolinecolor": "white",
           "zerolinewidth": 2
          }
         }
        },
        "title": {
         "text": "Killer Quakes"
        },
        "xaxis": {
         "anchor": "y",
         "domain": [
          0,
          1
         ],
         "title": {
          "text": "Total Deaths"
         }
        },
        "yaxis": {
         "anchor": "x",
         "domain": [
          0,
          1
         ],
         "title": {
          "text": "Country and Year"
         }
        }
       }
      },
      "text/html": [
       "<div>                            <div id=\"8d97165f-f5d8-4ba1-a07a-aad2f519accc\" class=\"plotly-graph-div\" style=\"height:525px; width:100%;\"></div>            <script type=\"text/javascript\">                require([\"plotly\"], function(Plotly) {                    window.PLOTLYENV=window.PLOTLYENV || {};                                    if (document.getElementById(\"8d97165f-f5d8-4ba1-a07a-aad2f519accc\")) {                    Plotly.newPlot(                        \"8d97165f-f5d8-4ba1-a07a-aad2f519accc\",                        [{\"alignmentgroup\":\"True\",\"hovertemplate\":\"Database=10 Deadliest Quakes in History\\u003cbr\\u003eDeaths=%{x}\\u003cbr\\u003ey=%{y}\\u003cextra\\u003e\\u003c\\u002fextra\\u003e\",\"legendgroup\":\"10 Deadliest Quakes in History\",\"marker\":{\"color\":\"blue\",\"pattern\":{\"shape\":\"\"}},\"name\":\"10 Deadliest Quakes in History\",\"offsetgroup\":\"10 Deadliest Quakes in History\",\"orientation\":\"h\",\"showlegend\":true,\"textposition\":\"auto\",\"x\":[830000,260000,250000,242769,230000,200000,200000,150000,142807],\"xaxis\":\"x\",\"y\":[\"China 1556\",\"Turkey 115\",\"Turkey 525\",\"China 1976\",\"Azerbaijan 1139\",\"Iran 856\",\"China 1920\",\"Armenia 893\",\"Japan 1923\"],\"yaxis\":\"y\",\"type\":\"bar\"},{\"alignmentgroup\":\"True\",\"hovertemplate\":\"Database=Deadly Since 2000\\u003cbr\\u003eDeaths=%{x}\\u003cbr\\u003ey=%{y}\\u003cextra\\u003e\\u003c\\u002fextra\\u003e\",\"legendgroup\":\"Deadly Since 2000\",\"marker\":{\"color\":\"red\",\"pattern\":{\"shape\":\"\"}},\"name\":\"Deadly Since 2000\",\"offsetgroup\":\"Deadly Since 2000\",\"orientation\":\"h\",\"showlegend\":true,\"textposition\":\"auto\",\"x\":[316000,227899,87564,73338,50103],\"xaxis\":\"x\",\"y\":[\"Haiti 2010\",\"Indonesia 2004\",\"China 2008\",\"Pakistan 2005\",\"Turkey 2023\"],\"yaxis\":\"y\",\"type\":\"bar\"}],                        {\"template\":{\"data\":{\"histogram2dcontour\":[{\"type\":\"histogram2dcontour\",\"colorbar\":{\"outlinewidth\":0,\"ticks\":\"\"},\"colorscale\":[[0.0,\"#0d0887\"],[0.1111111111111111,\"#46039f\"],[0.2222222222222222,\"#7201a8\"],[0.3333333333333333,\"#9c179e\"],[0.4444444444444444,\"#bd3786\"],[0.5555555555555556,\"#d8576b\"],[0.6666666666666666,\"#ed7953\"],[0.7777777777777778,\"#fb9f3a\"],[0.8888888888888888,\"#fdca26\"],[1.0,\"#f0f921\"]]}],\"choropleth\":[{\"type\":\"choropleth\",\"colorbar\":{\"outlinewidth\":0,\"ticks\":\"\"}}],\"histogram2d\":[{\"type\":\"histogram2d\",\"colorbar\":{\"outlinewidth\":0,\"ticks\":\"\"},\"colorscale\":[[0.0,\"#0d0887\"],[0.1111111111111111,\"#46039f\"],[0.2222222222222222,\"#7201a8\"],[0.3333333333333333,\"#9c179e\"],[0.4444444444444444,\"#bd3786\"],[0.5555555555555556,\"#d8576b\"],[0.6666666666666666,\"#ed7953\"],[0.7777777777777778,\"#fb9f3a\"],[0.8888888888888888,\"#fdca26\"],[1.0,\"#f0f921\"]]}],\"heatmap\":[{\"type\":\"heatmap\",\"colorbar\":{\"outlinewidth\":0,\"ticks\":\"\"},\"colorscale\":[[0.0,\"#0d0887\"],[0.1111111111111111,\"#46039f\"],[0.2222222222222222,\"#7201a8\"],[0.3333333333333333,\"#9c179e\"],[0.4444444444444444,\"#bd3786\"],[0.5555555555555556,\"#d8576b\"],[0.6666666666666666,\"#ed7953\"],[0.7777777777777778,\"#fb9f3a\"],[0.8888888888888888,\"#fdca26\"],[1.0,\"#f0f921\"]]}],\"heatmapgl\":[{\"type\":\"heatmapgl\",\"colorbar\":{\"outlinewidth\":0,\"ticks\":\"\"},\"colorscale\":[[0.0,\"#0d0887\"],[0.1111111111111111,\"#46039f\"],[0.2222222222222222,\"#7201a8\"],[0.3333333333333333,\"#9c179e\"],[0.4444444444444444,\"#bd3786\"],[0.5555555555555556,\"#d8576b\"],[0.6666666666666666,\"#ed7953\"],[0.7777777777777778,\"#fb9f3a\"],[0.8888888888888888,\"#fdca26\"],[1.0,\"#f0f921\"]]}],\"contourcarpet\":[{\"type\":\"contourcarpet\",\"colorbar\":{\"outlinewidth\":0,\"ticks\":\"\"}}],\"contour\":[{\"type\":\"contour\",\"colorbar\":{\"outlinewidth\":0,\"ticks\":\"\"},\"colorscale\":[[0.0,\"#0d0887\"],[0.1111111111111111,\"#46039f\"],[0.2222222222222222,\"#7201a8\"],[0.3333333333333333,\"#9c179e\"],[0.4444444444444444,\"#bd3786\"],[0.5555555555555556,\"#d8576b\"],[0.6666666666666666,\"#ed7953\"],[0.7777777777777778,\"#fb9f3a\"],[0.8888888888888888,\"#fdca26\"],[1.0,\"#f0f921\"]]}],\"surface\":[{\"type\":\"surface\",\"colorbar\":{\"outlinewidth\":0,\"ticks\":\"\"},\"colorscale\":[[0.0,\"#0d0887\"],[0.1111111111111111,\"#46039f\"],[0.2222222222222222,\"#7201a8\"],[0.3333333333333333,\"#9c179e\"],[0.4444444444444444,\"#bd3786\"],[0.5555555555555556,\"#d8576b\"],[0.6666666666666666,\"#ed7953\"],[0.7777777777777778,\"#fb9f3a\"],[0.8888888888888888,\"#fdca26\"],[1.0,\"#f0f921\"]]}],\"mesh3d\":[{\"type\":\"mesh3d\",\"colorbar\":{\"outlinewidth\":0,\"ticks\":\"\"}}],\"scatter\":[{\"fillpattern\":{\"fillmode\":\"overlay\",\"size\":10,\"solidity\":0.2},\"type\":\"scatter\"}],\"parcoords\":[{\"type\":\"parcoords\",\"line\":{\"colorbar\":{\"outlinewidth\":0,\"ticks\":\"\"}}}],\"scatterpolargl\":[{\"type\":\"scatterpolargl\",\"marker\":{\"colorbar\":{\"outlinewidth\":0,\"ticks\":\"\"}}}],\"bar\":[{\"error_x\":{\"color\":\"#2a3f5f\"},\"error_y\":{\"color\":\"#2a3f5f\"},\"marker\":{\"line\":{\"color\":\"#E5ECF6\",\"width\":0.5},\"pattern\":{\"fillmode\":\"overlay\",\"size\":10,\"solidity\":0.2}},\"type\":\"bar\"}],\"scattergeo\":[{\"type\":\"scattergeo\",\"marker\":{\"colorbar\":{\"outlinewidth\":0,\"ticks\":\"\"}}}],\"scatterpolar\":[{\"type\":\"scatterpolar\",\"marker\":{\"colorbar\":{\"outlinewidth\":0,\"ticks\":\"\"}}}],\"histogram\":[{\"marker\":{\"pattern\":{\"fillmode\":\"overlay\",\"size\":10,\"solidity\":0.2}},\"type\":\"histogram\"}],\"scattergl\":[{\"type\":\"scattergl\",\"marker\":{\"colorbar\":{\"outlinewidth\":0,\"ticks\":\"\"}}}],\"scatter3d\":[{\"type\":\"scatter3d\",\"line\":{\"colorbar\":{\"outlinewidth\":0,\"ticks\":\"\"}},\"marker\":{\"colorbar\":{\"outlinewidth\":0,\"ticks\":\"\"}}}],\"scattermapbox\":[{\"type\":\"scattermapbox\",\"marker\":{\"colorbar\":{\"outlinewidth\":0,\"ticks\":\"\"}}}],\"scatterternary\":[{\"type\":\"scatterternary\",\"marker\":{\"colorbar\":{\"outlinewidth\":0,\"ticks\":\"\"}}}],\"scattercarpet\":[{\"type\":\"scattercarpet\",\"marker\":{\"colorbar\":{\"outlinewidth\":0,\"ticks\":\"\"}}}],\"carpet\":[{\"aaxis\":{\"endlinecolor\":\"#2a3f5f\",\"gridcolor\":\"white\",\"linecolor\":\"white\",\"minorgridcolor\":\"white\",\"startlinecolor\":\"#2a3f5f\"},\"baxis\":{\"endlinecolor\":\"#2a3f5f\",\"gridcolor\":\"white\",\"linecolor\":\"white\",\"minorgridcolor\":\"white\",\"startlinecolor\":\"#2a3f5f\"},\"type\":\"carpet\"}],\"table\":[{\"cells\":{\"fill\":{\"color\":\"#EBF0F8\"},\"line\":{\"color\":\"white\"}},\"header\":{\"fill\":{\"color\":\"#C8D4E3\"},\"line\":{\"color\":\"white\"}},\"type\":\"table\"}],\"barpolar\":[{\"marker\":{\"line\":{\"color\":\"#E5ECF6\",\"width\":0.5},\"pattern\":{\"fillmode\":\"overlay\",\"size\":10,\"solidity\":0.2}},\"type\":\"barpolar\"}],\"pie\":[{\"automargin\":true,\"type\":\"pie\"}]},\"layout\":{\"autotypenumbers\":\"strict\",\"colorway\":[\"#636efa\",\"#EF553B\",\"#00cc96\",\"#ab63fa\",\"#FFA15A\",\"#19d3f3\",\"#FF6692\",\"#B6E880\",\"#FF97FF\",\"#FECB52\"],\"font\":{\"color\":\"#2a3f5f\"},\"hovermode\":\"closest\",\"hoverlabel\":{\"align\":\"left\"},\"paper_bgcolor\":\"white\",\"plot_bgcolor\":\"#E5ECF6\",\"polar\":{\"bgcolor\":\"#E5ECF6\",\"angularaxis\":{\"gridcolor\":\"white\",\"linecolor\":\"white\",\"ticks\":\"\"},\"radialaxis\":{\"gridcolor\":\"white\",\"linecolor\":\"white\",\"ticks\":\"\"}},\"ternary\":{\"bgcolor\":\"#E5ECF6\",\"aaxis\":{\"gridcolor\":\"white\",\"linecolor\":\"white\",\"ticks\":\"\"},\"baxis\":{\"gridcolor\":\"white\",\"linecolor\":\"white\",\"ticks\":\"\"},\"caxis\":{\"gridcolor\":\"white\",\"linecolor\":\"white\",\"ticks\":\"\"}},\"coloraxis\":{\"colorbar\":{\"outlinewidth\":0,\"ticks\":\"\"}},\"colorscale\":{\"sequential\":[[0.0,\"#0d0887\"],[0.1111111111111111,\"#46039f\"],[0.2222222222222222,\"#7201a8\"],[0.3333333333333333,\"#9c179e\"],[0.4444444444444444,\"#bd3786\"],[0.5555555555555556,\"#d8576b\"],[0.6666666666666666,\"#ed7953\"],[0.7777777777777778,\"#fb9f3a\"],[0.8888888888888888,\"#fdca26\"],[1.0,\"#f0f921\"]],\"sequentialminus\":[[0.0,\"#0d0887\"],[0.1111111111111111,\"#46039f\"],[0.2222222222222222,\"#7201a8\"],[0.3333333333333333,\"#9c179e\"],[0.4444444444444444,\"#bd3786\"],[0.5555555555555556,\"#d8576b\"],[0.6666666666666666,\"#ed7953\"],[0.7777777777777778,\"#fb9f3a\"],[0.8888888888888888,\"#fdca26\"],[1.0,\"#f0f921\"]],\"diverging\":[[0,\"#8e0152\"],[0.1,\"#c51b7d\"],[0.2,\"#de77ae\"],[0.3,\"#f1b6da\"],[0.4,\"#fde0ef\"],[0.5,\"#f7f7f7\"],[0.6,\"#e6f5d0\"],[0.7,\"#b8e186\"],[0.8,\"#7fbc41\"],[0.9,\"#4d9221\"],[1,\"#276419\"]]},\"xaxis\":{\"gridcolor\":\"white\",\"linecolor\":\"white\",\"ticks\":\"\",\"title\":{\"standoff\":15},\"zerolinecolor\":\"white\",\"automargin\":true,\"zerolinewidth\":2},\"yaxis\":{\"gridcolor\":\"white\",\"linecolor\":\"white\",\"ticks\":\"\",\"title\":{\"standoff\":15},\"zerolinecolor\":\"white\",\"automargin\":true,\"zerolinewidth\":2},\"scene\":{\"xaxis\":{\"backgroundcolor\":\"#E5ECF6\",\"gridcolor\":\"white\",\"linecolor\":\"white\",\"showbackground\":true,\"ticks\":\"\",\"zerolinecolor\":\"white\",\"gridwidth\":2},\"yaxis\":{\"backgroundcolor\":\"#E5ECF6\",\"gridcolor\":\"white\",\"linecolor\":\"white\",\"showbackground\":true,\"ticks\":\"\",\"zerolinecolor\":\"white\",\"gridwidth\":2},\"zaxis\":{\"backgroundcolor\":\"#E5ECF6\",\"gridcolor\":\"white\",\"linecolor\":\"white\",\"showbackground\":true,\"ticks\":\"\",\"zerolinecolor\":\"white\",\"gridwidth\":2}},\"shapedefaults\":{\"line\":{\"color\":\"#2a3f5f\"}},\"annotationdefaults\":{\"arrowcolor\":\"#2a3f5f\",\"arrowhead\":0,\"arrowwidth\":1},\"geo\":{\"bgcolor\":\"white\",\"landcolor\":\"#E5ECF6\",\"subunitcolor\":\"white\",\"showland\":true,\"showlakes\":true,\"lakecolor\":\"white\"},\"title\":{\"x\":0.05},\"mapbox\":{\"style\":\"light\"}}},\"xaxis\":{\"anchor\":\"y\",\"domain\":[0.0,1.0],\"title\":{\"text\":\"Total Deaths\"}},\"yaxis\":{\"anchor\":\"x\",\"domain\":[0.0,1.0],\"title\":{\"text\":\"Country and Year\"}},\"legend\":{\"title\":{\"text\":\"\"},\"tracegroupgap\":0},\"title\":{\"text\":\"Killer Quakes\"},\"barmode\":\"relative\",\"showlegend\":true},                        {\"responsive\": true}                    ).then(function(){\n",
       "                            \n",
       "var gd = document.getElementById('8d97165f-f5d8-4ba1-a07a-aad2f519accc');\n",
       "var x = new MutationObserver(function (mutations, observer) {{\n",
       "        var display = window.getComputedStyle(gd).display;\n",
       "        if (!display || display === 'none') {{\n",
       "            console.log([gd, 'removed!']);\n",
       "            Plotly.purge(gd);\n",
       "            observer.disconnect();\n",
       "        }}\n",
       "}});\n",
       "\n",
       "// Listen for the removal of the full notebook cells\n",
       "var notebookContainer = gd.closest('#notebook-container');\n",
       "if (notebookContainer) {{\n",
       "    x.observe(notebookContainer, {childList: true});\n",
       "}}\n",
       "\n",
       "// Listen for the clearing of the current output cell\n",
       "var outputEl = gd.closest('.output');\n",
       "if (outputEl) {{\n",
       "    x.observe(outputEl, {childList: true});\n",
       "}}\n",
       "\n",
       "                        })                };                });            </script>        </div>"
      ]
     },
     "metadata": {},
     "output_type": "display_data"
    }
   ],
   "source": [
    "fig = px.bar(\n",
    "    df_last,\n",
    "    x=\"deaths\",\n",
    "    y=df_last['country'] + ' ' + df_last['year'].astype(str),\n",
    "    labels={\"country\": \"Country\", \"deaths\": \"Deaths\"},\n",
    "    title=\"Killer Quakes\",\n",
    "    color=\"Database\",\n",
    "    color_discrete_map={'10 Deadliest Quakes in History': 'blue', 'Deadly Since 2000': 'red'},\n",
    "    category_orders={\"Database\": [\"10 Deadliest Quakes in History\", \"Deadly Since 2000\"]}\n",
    ")\n",
    "\n",
    "\n",
    "fig.update_xaxes(title_text=\"Total Deaths\")\n",
    "fig.update_yaxes(title_text=\"Country and Year\")\n",
    "\n",
    "\n",
    "fig.update_layout(\n",
    "    legend_title_text='',\n",
    "    legend=dict(title=''),\n",
    "    showlegend=True\n",
    ")\n",
    "\n",
    "fig.show()"
   ]
  },
  {
   "cell_type": "code",
   "execution_count": null,
   "id": "0ffab706",
   "metadata": {},
   "outputs": [],
   "source": []
  }
 ],
 "metadata": {
  "kernelspec": {
   "display_name": "Python 3 (ipykernel)",
   "language": "python",
   "name": "python3"
  },
  "language_info": {
   "codemirror_mode": {
    "name": "ipython",
    "version": 3
   },
   "file_extension": ".py",
   "mimetype": "text/x-python",
   "name": "python",
   "nbconvert_exporter": "python",
   "pygments_lexer": "ipython3",
   "version": "3.11.4"
  }
 },
 "nbformat": 4,
 "nbformat_minor": 5
}
